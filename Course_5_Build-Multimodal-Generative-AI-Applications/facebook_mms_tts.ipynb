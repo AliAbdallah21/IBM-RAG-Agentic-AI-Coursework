{
  "nbformat": 4,
  "nbformat_minor": 0,
  "metadata": {
    "colab": {
      "provenance": []
    },
    "kernelspec": {
      "name": "python3",
      "display_name": "Python 3"
    },
    "language_info": {
      "name": "python"
    }
  },
  "cells": [
    {
      "cell_type": "code",
      "execution_count": null,
      "metadata": {
        "id": "an3wvbLF7R0Y"
      },
      "outputs": [],
      "source": [
        "import torch\n",
        "import torchaudio\n",
        "from transformers import VitsModel, AutoTokenizer, Wav2Vec2Processor, Wav2Vec2ForCTC\n",
        "import librosa\n",
        "import soundfile as sf"
      ]
    },
    {
      "cell_type": "code",
      "source": [
        "def generate_speech(text):\n",
        "  # Import the Python SDK\n",
        "  from google.colab import userdata\n",
        "  from transformers import VitsModel, AutoTokenizer\n",
        "\n",
        "  # Get the Hugging Face token from the secrets manager\n",
        "  hf_token = userdata.get('HF_TOKEN')\n",
        "\n",
        "  # Load the model and tokenizer using the token\n",
        "  model = VitsModel.from_pretrained(\"facebook/mms-tts-eng\", token=hf_token)\n",
        "  tokenizer = AutoTokenizer.from_pretrained(\"facebook/mms-tts-eng\", token=hf_token)\n",
        "\n",
        "  inputs = tokenizer(text, return_tensors = \"pt\")\n",
        "\n",
        "  with torch.no_grad():\n",
        "    output = model(**inputs).waveform\n",
        "\n",
        "    return output"
      ],
      "metadata": {
        "id": "RXNLkB3m7fsM"
      },
      "execution_count": null,
      "outputs": []
    },
    {
      "cell_type": "code",
      "source": [
        "if __name__ == \"__main__\":\n",
        "    text = (\n",
        "        \"The old man, Silas, lived in a house made of books.\"\n",
        "    )\n",
        "audio = generate_speech(text)\n",
        "torchaudio.save(\"audio4.wav\", audio, sample_rate = 16000)"
      ],
      "metadata": {
        "id": "9aJb7JCD7q4q",
        "collapsed": true
      },
      "execution_count": null,
      "outputs": []
    }
  ]
}