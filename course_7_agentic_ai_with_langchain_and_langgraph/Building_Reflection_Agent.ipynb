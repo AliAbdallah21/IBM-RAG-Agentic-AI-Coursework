{
  "nbformat": 4,
  "nbformat_minor": 0,
  "metadata": {
    "colab": {
      "provenance": []
    },
    "kernelspec": {
      "name": "python3",
      "display_name": "Python 3"
    },
    "language_info": {
      "name": "python"
    }
  },
  "cells": [
    {
      "cell_type": "code",
      "source": [
        "!apt update\n",
        "!apt install -y graphviz libgraphviz-dev pkg-config"
      ],
      "metadata": {
        "id": "4J7sPd7QeVE7"
      },
      "execution_count": null,
      "outputs": []
    },
    {
      "cell_type": "code",
      "execution_count": 44,
      "metadata": {
        "collapsed": true,
        "id": "shgoG8bMXr4E"
      },
      "outputs": [],
      "source": [
        "# @title Installations\n",
        "!pip install -q langgraph==0.3.31 langchain-openai\n",
        "!pip install -q langchain==0.3.23\n",
        "!pip install -q langchain_community==0.3.21\n",
        "%pip install -q pygraphviz==1.14"
      ]
    },
    {
      "cell_type": "markdown",
      "source": [
        "## Workflow of Reflection Agent in LangGraph:\n",
        "\n",
        "1. **Generation Node: Generate Initial Output**\n",
        "   - The first step in the process is the **generation node**, which quickly produces an initial output based on the given prompt. This stage is all about generating a first draft without focusing too much on perfection. It acts like an instinctive response, providing a rough version of the output. For example, if the task is to write a LinkedIn post, the generation node would come up with a basic idea. This draft is then passed to the next step for evaluation.\n",
        "     \n",
        "<br>\n",
        "\n",
        "2. **Evaluation Node: Evaluate Output for Quality**\n",
        "   - After the initial output is generated, the **evaluation node** assesses its quality. This step is about checking if the output is good enough or if it needs improvement. The evaluation focuses on key aspects like whether the message is clear, engaging, and relevant. For instance, in the case of a LinkedIn post, the evaluation might decide if the post feels authentic, aligns with professional tone, or misses important context. If the output is deemed acceptable, it moves forward to the final step.\n",
        "\n",
        "<br>\n",
        "\n",
        "3. **Reflection Node: Critique and Refine**\n",
        "   - If the evaluation node determines that the output needs improvement, the **reflection node** steps in to refine the content. This step is more thoughtful and deliberate, where the system reflects on the output and looks for ways to improve it. The reflection node critiques the draft, suggests changes, and revises the content to make it more polished. It could involve enhancing tone, adding clarity, highlighting achievements, or making the post more engaging. The system keeps refining the output through this process until it reaches the desired quality level.\n",
        "     \n",
        "<br>\n",
        "\n",
        "4. **Final Output: Present Refined Result**\n",
        "   - Once the reflection node has done its job, the final output is produced. This is the result of the reflection and evaluation processes, where the initial draft has been refined and improved. The agent now presents the final version of the content — a polished, high-quality LinkedIn post ready for publishing. After this step, the process concludes, and the final response is delivered to the user.\n",
        "\n",
        "\n",
        "---\n",
        "\n",
        "**Example (LinkedIn Post Generation):**  \n",
        "Imagine asking an AI to write a LinkedIn post announcing a job promotion:  \n",
        "\n",
        "**Prompt:**  \n",
        "\"Write a LinkedIn post announcing my promotion to Engineering Manager.\"  \n",
        "\n",
        "**AI’s Initial Output (System 1):**  \n",
        "*\"Excited to share that I’ve been promoted to Engineering Manager!\"*  \n",
        "\n",
        "**Reflection Step:**  \n",
        "The AI reviews the post and asks:  \n",
        "*\"Does this post highlight leadership growth or express gratitude?\"*  \n",
        "\n",
        "**Refined Output (System 2):**  \n",
        "*\"I'm thrilled to share that I've been promoted to Engineering Manager at [Company]! Grateful for the mentorship, team collaboration, and opportunities that led to this moment. Looking forward to leading new initiatives and continuing to grow with this incredible team. #Leadership #CareerGrowth #EngineeringManager\"*\n",
        "\n",
        "---\n"
      ],
      "metadata": {
        "id": "UhwG_63taclk"
      }
    },
    {
      "cell_type": "code",
      "source": [
        "# @title Imports\n",
        "from langchain_openai import ChatOpenAI\n",
        "from google.colab import userdata\n",
        "\n",
        "from typing import List, Sequence, Annotated, TypedDict\n",
        "from langchain.schema import HumanMessage, AIMessage, SystemMessage\n",
        "from langchain_core.messages import BaseMessage, HumanMessage\n",
        "from langchain_core.prompts import ChatPromptTemplate, MessagesPlaceholder\n"
      ],
      "metadata": {
        "id": "TZEdbl1sYCsI"
      },
      "execution_count": 19,
      "outputs": []
    },
    {
      "cell_type": "code",
      "source": [
        "# @title API Disclaimer\n",
        "api_key =userdata.get('OPENAI_API_KEY')\n",
        "llm = ChatOpenAI(model = 'gpt-4o-mini', openai_api_key = api_key)"
      ],
      "metadata": {
        "id": "_H1Waaq7YQ6J"
      },
      "execution_count": 10,
      "outputs": []
    },
    {
      "cell_type": "code",
      "source": [
        "# @title Generation Prompt\n",
        "generation_prompt = ChatPromptTemplate.from_messages(\n",
        "    [\n",
        "        (\n",
        "            \"system\",\n",
        "            \"You are a professional LinkedIn content assistant tasked with crafting engaging, insightful, and well-structured LinkedIn posts.\"\n",
        "            \" Generate the best LinkedIn post possible for the user's request.\"\n",
        "            \" If the user provides feedback or critique, respond with a refined version of your previous attempts, improving clarity, tone, or engagement as needed.\",\n",
        "        ),\n",
        "        MessagesPlaceholder(variable_name=\"messages\"),\n",
        "    ]\n",
        ")"
      ],
      "metadata": {
        "id": "oHbXwzxWZWMT"
      },
      "execution_count": 14,
      "outputs": []
    },
    {
      "cell_type": "code",
      "source": [
        "# @title Generate Chain\n",
        "\n",
        "generate_chain = generation_prompt | llm"
      ],
      "metadata": {
        "id": "IHeRvTa8atRs"
      },
      "execution_count": 15,
      "outputs": []
    },
    {
      "cell_type": "code",
      "source": [
        "# @title Reflection Prompt\n",
        "reflection_prompt = ChatPromptTemplate.from_messages([\n",
        "    (\n",
        "        \"system\",\n",
        "        \"\"\"You are a professional LinkedIn content strategist and thought leadership expert. Your task is to critically evaluate the given LinkedIn post and provide a comprehensive critique. Follow these guidelines:\n",
        "\n",
        "        1. Assess the post’s overall quality, professionalism, and alignment with LinkedIn best practices.\n",
        "        2. Evaluate the structure, tone, clarity, and readability of the post.\n",
        "        3. Analyze the post’s potential for engagement (likes, comments, shares) and its effectiveness in building professional credibility.\n",
        "        4. Consider the post’s relevance to the author’s industry, audience, or current trends.\n",
        "        5. Examine the use of formatting (e.g., line breaks, bullet points), hashtags, mentions, and media (if any).\n",
        "        6. Evaluate the effectiveness of any call-to-action or takeaway.\n",
        "\n",
        "        Provide a detailed critique that includes:\n",
        "        - A brief explanation of the post’s strengths and weaknesses.\n",
        "        - Specific areas that could be improved.\n",
        "        - Actionable suggestions for enhancing clarity, engagement, and professionalism.\n",
        "\n",
        "        Your critique will be used to improve the post in the next revision step, so ensure your feedback is thoughtful, constructive, and practical.\n",
        "        \"\"\"\n",
        "    ),\n",
        "    MessagesPlaceholder(variable_name=\"messages\")\n",
        "])"
      ],
      "metadata": {
        "id": "GNMh-Cxzatnj"
      },
      "execution_count": 16,
      "outputs": []
    },
    {
      "cell_type": "code",
      "source": [
        "# @title Reflect Chain\n",
        "\n",
        "reflect_chain = reflection_prompt | llm"
      ],
      "metadata": {
        "id": "C3Pw8SVYay10"
      },
      "execution_count": 18,
      "outputs": []
    },
    {
      "cell_type": "code",
      "source": [
        "from langgraph.graph import MessageGraph\n",
        "\n",
        "# Initialize a predefined MessageGraph\n",
        "graph = MessageGraph()"
      ],
      "metadata": {
        "colab": {
          "base_uri": "https://localhost:8080/"
        },
        "id": "HT0q39dTa2yT",
        "outputId": "556b2b2d-fbcb-4cf7-f5f3-1e3919307e82"
      },
      "execution_count": 20,
      "outputs": [
        {
          "output_type": "stream",
          "name": "stderr",
          "text": [
            "/tmp/ipython-input-2960337801.py:4: LangGraphDeprecatedSinceV10: MessageGraph is deprecated in LangGraph v1.0.0, to be removed in v2.0.0. Please use StateGraph with a `messages` key instead. Deprecated in LangGraph V1.0 to be removed in V2.0.\n",
            "  graph = MessageGraph()\n"
          ]
        }
      ]
    },
    {
      "cell_type": "code",
      "source": [
        "def generation_node(state: Sequence[BaseMessage]) -> List[BaseMessage]:\n",
        "    generated_post = generate_chain.invoke({\"messages\": state})\n",
        "    return [AIMessage(content=generated_post.content)]"
      ],
      "metadata": {
        "id": "4FTkmhAcbPp4"
      },
      "execution_count": 21,
      "outputs": []
    },
    {
      "cell_type": "code",
      "source": [
        "def reflection_node(messages: Sequence[BaseMessage]) -> List[BaseMessage]:\n",
        "    res = reflect_chain.invoke({\"messages\": messages})  # Passes messages as input to reflect_chain\n",
        "    return [HumanMessage(content=res.content)]  # Returns the refined message as HumanMessage for feedback"
      ],
      "metadata": {
        "id": "yxx7Gd5PbZ8d"
      },
      "execution_count": 22,
      "outputs": []
    },
    {
      "cell_type": "code",
      "source": [
        "graph.add_node(\"generate\", generation_node)\n",
        "graph.add_node(\"reflect\", reflection_node)\n",
        "graph.set_entry_point(\"generate\")"
      ],
      "metadata": {
        "colab": {
          "base_uri": "https://localhost:8080/"
        },
        "id": "V1fUtHPKbe9n",
        "outputId": "3559fd03-ca86-49f9-c72d-44eff701353d"
      },
      "execution_count": 23,
      "outputs": [
        {
          "output_type": "execute_result",
          "data": {
            "text/plain": [
              "<langgraph.graph.message.MessageGraph at 0x7e6921f9d370>"
            ]
          },
          "metadata": {},
          "execution_count": 23
        }
      ]
    },
    {
      "cell_type": "code",
      "source": [
        "def should_continue_4(state: List[BaseMessage]):\n",
        "    print(state)\n",
        "    print(len(state))\n",
        "    print(\"----------------------------------------------------------------------\")\n",
        "    if len(state) > 6:\n",
        "        return END\n",
        "    return \"reflect\""
      ],
      "metadata": {
        "id": "MkbXkxvEbuXV"
      },
      "execution_count": 82,
      "outputs": []
    },
    {
      "cell_type": "code",
      "source": [
        "graph.add_conditional_edges(\"generate\", should_continue_4)"
      ],
      "metadata": {
        "colab": {
          "base_uri": "https://localhost:8080/"
        },
        "id": "BY7WPnerb3AH",
        "outputId": "85c0bd39-6b96-40da-bc87-a355b28a054a"
      },
      "execution_count": 83,
      "outputs": [
        {
          "output_type": "stream",
          "name": "stderr",
          "text": [
            "WARNING:langgraph.graph.state:Adding an edge to a graph that has already been compiled. This will not be reflected in the compiled graph.\n"
          ]
        },
        {
          "output_type": "execute_result",
          "data": {
            "text/plain": [
              "<langgraph.graph.message.MessageGraph at 0x7e6921f9d370>"
            ]
          },
          "metadata": {},
          "execution_count": 83
        }
      ]
    },
    {
      "cell_type": "code",
      "source": [
        "workflow = graph.compile()"
      ],
      "metadata": {
        "id": "osmKrtz3b58r"
      },
      "execution_count": 84,
      "outputs": []
    },
    {
      "cell_type": "code",
      "source": [
        "inputs = HumanMessage(content=\"\"\"Write a linkedin post on getting a software developer job at IBM under 160 characters\"\"\")"
      ],
      "metadata": {
        "id": "PvF5nv_mb9YE"
      },
      "execution_count": 85,
      "outputs": []
    },
    {
      "cell_type": "code",
      "source": [
        "response = workflow.invoke(inputs)"
      ],
      "metadata": {
        "colab": {
          "base_uri": "https://localhost:8080/"
        },
        "id": "QkhtvKJUb_h3",
        "outputId": "9c4b3424-9b79-4794-a091-a6a57fbd4110"
      },
      "execution_count": 86,
      "outputs": [
        {
          "output_type": "stream",
          "name": "stdout",
          "text": [
            "[HumanMessage(content='Write a linkedin post on getting a software developer job at IBM under 160 characters', additional_kwargs={}, response_metadata={}, id='17dc9260-4a49-4222-b9b5-9eb9e6901549'), AIMessage(content='Thrilled to share that I landed a software developer role at IBM! Excited for new challenges and to innovate at a company that shapes technology. 🚀 #IBM #SoftwareDevelopment', additional_kwargs={}, response_metadata={}, id='c4bb07fd-6aa0-482f-ad7c-374a742fb238')]\n",
            "2\n",
            "----------------------------------------------------------------------\n",
            "[HumanMessage(content='Write a linkedin post on getting a software developer job at IBM under 160 characters', additional_kwargs={}, response_metadata={}, id='17dc9260-4a49-4222-b9b5-9eb9e6901549'), AIMessage(content='Thrilled to share that I landed a software developer role at IBM! Excited for new challenges and to innovate at a company that shapes technology. 🚀 #IBM #SoftwareDevelopment', additional_kwargs={}, response_metadata={}, id='c4bb07fd-6aa0-482f-ad7c-374a742fb238')]\n",
            "2\n",
            "----------------------------------------------------------------------\n",
            "[HumanMessage(content='Write a linkedin post on getting a software developer job at IBM under 160 characters', additional_kwargs={}, response_metadata={}, id='17dc9260-4a49-4222-b9b5-9eb9e6901549'), AIMessage(content='Thrilled to share that I landed a software developer role at IBM! Excited for new challenges and to innovate at a company that shapes technology. 🚀 #IBM #SoftwareDevelopment', additional_kwargs={}, response_metadata={}, id='c4bb07fd-6aa0-482f-ad7c-374a742fb238')]\n",
            "2\n",
            "----------------------------------------------------------------------\n",
            "[HumanMessage(content='Write a linkedin post on getting a software developer job at IBM under 160 characters', additional_kwargs={}, response_metadata={}, id='17dc9260-4a49-4222-b9b5-9eb9e6901549'), AIMessage(content='Thrilled to share that I landed a software developer role at IBM! Excited for new challenges and to innovate at a company that shapes technology. 🚀 #IBM #SoftwareDevelopment', additional_kwargs={}, response_metadata={}, id='c4bb07fd-6aa0-482f-ad7c-374a742fb238')]\n",
            "2\n",
            "----------------------------------------------------------------------\n"
          ]
        }
      ]
    },
    {
      "cell_type": "code",
      "source": [
        "response[0].content"
      ],
      "metadata": {
        "colab": {
          "base_uri": "https://localhost:8080/",
          "height": 35
        },
        "id": "YO8aOdzwicS0",
        "outputId": "d83f703a-b986-4344-ba5b-cb2a90ff2b72"
      },
      "execution_count": 90,
      "outputs": [
        {
          "output_type": "execute_result",
          "data": {
            "text/plain": [
              "'Write a linkedin post on getting a software developer job at IBM under 160 characters'"
            ],
            "application/vnd.google.colaboratory.intrinsic+json": {
              "type": "string"
            }
          },
          "metadata": {},
          "execution_count": 90
        }
      ]
    },
    {
      "cell_type": "code",
      "source": [
        "response[1].content"
      ],
      "metadata": {
        "colab": {
          "base_uri": "https://localhost:8080/",
          "height": 53
        },
        "id": "r0PTpBVYcBfw",
        "outputId": "33916149-c121-4488-d416-b75c97bd915f"
      },
      "execution_count": 87,
      "outputs": [
        {
          "output_type": "execute_result",
          "data": {
            "text/plain": [
              "'Thrilled to share that I landed a software developer role at IBM! Excited for new challenges and to innovate at a company that shapes technology. 🚀 #IBM #SoftwareDevelopment'"
            ],
            "application/vnd.google.colaboratory.intrinsic+json": {
              "type": "string"
            }
          },
          "metadata": {},
          "execution_count": 87
        }
      ]
    },
    {
      "cell_type": "code",
      "source": [
        "response[2].content"
      ],
      "metadata": {
        "colab": {
          "base_uri": "https://localhost:8080/",
          "height": 192
        },
        "id": "YGTYh_D_cKlb",
        "outputId": "78f69cb6-49d7-4dfc-ffd1-76fef94cde60"
      },
      "execution_count": 88,
      "outputs": [
        {
          "output_type": "execute_result",
          "data": {
            "text/plain": [
              "'### Critique of the LinkedIn Post\\n\\n#### Overall Quality and Professionalism\\nThe post is concise, fitting within the 160-character limit while effectively conveying excitement about the new job opportunity at IBM. It maintains a professional tone that\\'s appropriate for LinkedIn, where career accomplishments are often shared.\\n\\n#### Structure, Tone, Clarity, and Readability\\n- **Structure**: The post is straightforward, starting with the declaration of the achievement and followed by a brief expression of excitement. The use of an emoji adds a touch of personality without detracting from professionalism.\\n- **Tone**: The tone is positive and enthusiastic, which can resonate well with LinkedIn users looking for motivation.\\n- **Clarity**: The message is clear and easily understandable, although it could provide more context on what the author hopes to achieve in this role or why they are excited about it.\\n\\n#### Engagement Potential\\nThe post\\'s brevity and clarity may attract likes from connections but could lack the depth to generate significant comments or shares. Posts that share an accomplishment often perform well; however, adding more personal insights or reflections can significantly enhance engagement.\\n\\n#### Relevance to Industry and Audience\\nThe post is highly relevant to both the tech industry and individuals interested in software development careers. Sharing the achievement at a prestigious company like IBM can enhance the author\\'s credibility and inspire others in tech.\\n\\n#### Use of Formatting, Hashtags, Mentions, and Media\\n- **Formatting**: The post can benefit from line breaks for visual clarity if expanded. However, as is, it is sufficiently clear due to its brevity.\\n- **Hashtags**: The post includes one relevant hashtag (#IBM) but could benefit from additional hashtags related to software development, careers, or job searching (e.g., #JobAnnouncement, #SoftwareEngineering).\\n- **Mentions**: There are no mentions of individuals or organizations, which could be a missed opportunity to engage directly with key connections.\\n- **Media**: The post is text-only. Including a relevant image or even a graphic that represents the journey to this point could enhance visibility and engagement.\\n\\n#### Call-to-Action or Takeaway\\nThe post lacks a strong call-to-action. While the accomplishment is celebrated, inviting the audience to connect, share their own experiences, or follow the journey would enhance interaction and conversation.\\n\\n### Strengths\\n- Concise and clear messaging\\n- Professional tone\\n- Positivity and enthusiasm about a new opportunity\\n\\n### Weaknesses\\n- Limited engagement potential due to lack of depth\\n- Could use more relevant hashtags for visibility\\n\\n### Specific Areas for Improvement\\n1. **Add More Context**: Briefly mention what excites you about working at IBM or what goals you have in this role.\\n2. **Enhance Engagement**: Consider inviting others to share their experiences or connect, which can foster conversation.\\n3. **Include Additional Hashtags**: Incorporate relevant hashtags to increase reach, such as #NewJob, #TechCareers, #SoftwareDev.\\n4. **Visual Content**: Consider adding an image or graphic related to your new role, the interview process, or something symbolic of your journey.\\n\\n### Actionable Suggestions\\n- Revise the post to include a brief insight like: \"I am looking forward to tackling innovative projects and collaborating with talented teams at IBM!\"\\n- Incorporate additional hashtags: #TechJobs, #CareerGrowth, #JobSearchSuccess.\\n- Add a question or prompt at the end: \"What advice do you have for starting a new role?\" \\n\\nBy addressing these points, the LinkedIn post can transform from a simple announcement into a more engaging and impactful message that resonates well with the audience.'"
            ],
            "application/vnd.google.colaboratory.intrinsic+json": {
              "type": "string"
            }
          },
          "metadata": {},
          "execution_count": 88
        }
      ]
    },
    {
      "cell_type": "code",
      "source": [
        "response[-1].content"
      ],
      "metadata": {
        "colab": {
          "base_uri": "https://localhost:8080/",
          "height": 192
        },
        "id": "Kv_cG5K4cNQ7",
        "outputId": "88824e54-36ec-4704-fabc-213c40f378ef"
      },
      "execution_count": 89,
      "outputs": [
        {
          "output_type": "execute_result",
          "data": {
            "text/plain": [
              "'### Critique of the LinkedIn Post\\n\\n#### Overall Quality and Professionalism\\nThe post is concise, fitting within the 160-character limit while effectively conveying excitement about the new job opportunity at IBM. It maintains a professional tone that\\'s appropriate for LinkedIn, where career accomplishments are often shared.\\n\\n#### Structure, Tone, Clarity, and Readability\\n- **Structure**: The post is straightforward, starting with the declaration of the achievement and followed by a brief expression of excitement. The use of an emoji adds a touch of personality without detracting from professionalism.\\n- **Tone**: The tone is positive and enthusiastic, which can resonate well with LinkedIn users looking for motivation.\\n- **Clarity**: The message is clear and easily understandable, although it could provide more context on what the author hopes to achieve in this role or why they are excited about it.\\n\\n#### Engagement Potential\\nThe post\\'s brevity and clarity may attract likes from connections but could lack the depth to generate significant comments or shares. Posts that share an accomplishment often perform well; however, adding more personal insights or reflections can significantly enhance engagement.\\n\\n#### Relevance to Industry and Audience\\nThe post is highly relevant to both the tech industry and individuals interested in software development careers. Sharing the achievement at a prestigious company like IBM can enhance the author\\'s credibility and inspire others in tech.\\n\\n#### Use of Formatting, Hashtags, Mentions, and Media\\n- **Formatting**: The post can benefit from line breaks for visual clarity if expanded. However, as is, it is sufficiently clear due to its brevity.\\n- **Hashtags**: The post includes one relevant hashtag (#IBM) but could benefit from additional hashtags related to software development, careers, or job searching (e.g., #JobAnnouncement, #SoftwareEngineering).\\n- **Mentions**: There are no mentions of individuals or organizations, which could be a missed opportunity to engage directly with key connections.\\n- **Media**: The post is text-only. Including a relevant image or even a graphic that represents the journey to this point could enhance visibility and engagement.\\n\\n#### Call-to-Action or Takeaway\\nThe post lacks a strong call-to-action. While the accomplishment is celebrated, inviting the audience to connect, share their own experiences, or follow the journey would enhance interaction and conversation.\\n\\n### Strengths\\n- Concise and clear messaging\\n- Professional tone\\n- Positivity and enthusiasm about a new opportunity\\n\\n### Weaknesses\\n- Limited engagement potential due to lack of depth\\n- Could use more relevant hashtags for visibility\\n\\n### Specific Areas for Improvement\\n1. **Add More Context**: Briefly mention what excites you about working at IBM or what goals you have in this role.\\n2. **Enhance Engagement**: Consider inviting others to share their experiences or connect, which can foster conversation.\\n3. **Include Additional Hashtags**: Incorporate relevant hashtags to increase reach, such as #NewJob, #TechCareers, #SoftwareDev.\\n4. **Visual Content**: Consider adding an image or graphic related to your new role, the interview process, or something symbolic of your journey.\\n\\n### Actionable Suggestions\\n- Revise the post to include a brief insight like: \"I am looking forward to tackling innovative projects and collaborating with talented teams at IBM!\"\\n- Incorporate additional hashtags: #TechJobs, #CareerGrowth, #JobSearchSuccess.\\n- Add a question or prompt at the end: \"What advice do you have for starting a new role?\" \\n\\nBy addressing these points, the LinkedIn post can transform from a simple announcement into a more engaging and impactful message that resonates well with the audience.'"
            ],
            "application/vnd.google.colaboratory.intrinsic+json": {
              "type": "string"
            }
          },
          "metadata": {},
          "execution_count": 89
        }
      ]
    },
    {
      "cell_type": "code",
      "source": [
        "from IPython.display import Image, display\n",
        "\n",
        "display(Image(workflow.get_graph().draw_png()))"
      ],
      "metadata": {
        "colab": {
          "base_uri": "https://localhost:8080/",
          "height": 364
        },
        "id": "RPbG5kKFcP7d",
        "outputId": "ffe551a7-038c-4738-a4c3-d404e129a535"
      },
      "execution_count": 81,
      "outputs": [
        {
          "output_type": "display_data",
          "data": {
            "image/png": "[encoded data removed]",
            "text/plain": [
              "<IPython.core.display.Image object>"
            ]
          },
          "metadata": {}
        }
      ]
    }
  ]
}