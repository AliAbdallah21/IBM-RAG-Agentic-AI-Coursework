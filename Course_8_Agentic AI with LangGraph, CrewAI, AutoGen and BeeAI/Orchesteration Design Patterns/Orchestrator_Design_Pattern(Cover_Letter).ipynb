{
  "nbformat": 4,
  "nbformat_minor": 0,
  "metadata": {
    "colab": {
      "provenance": []
    },
    "kernelspec": {
      "name": "python3",
      "display_name": "Python 3"
    },
    "language_info": {
      "name": "python"
    }
  },
  "cells": [
    {
      "cell_type": "code",
      "source": [
        "%%capture\n",
        "!pip install langgraph\n",
        "!pip install langchain_openai\n",
        "!pip install langchain_core\n",
        "!pip install pygraphviz\n"
      ],
      "metadata": {
        "id": "G7xvrESqiZS6"
      },
      "execution_count": 1,
      "outputs": []
    },
    {
      "cell_type": "code",
      "source": [
        "!apt-get install -y graphviz libgraphviz-dev\n",
        "!pip install pygraphviz --no-binary=pygraphviz --force-reinstall\n"
      ],
      "metadata": {
        "colab": {
          "base_uri": "https://localhost:8080/"
        },
        "collapsed": true,
        "id": "SKWLTa3OsYS1",
        "outputId": "f4f927ca-f1ec-405b-ddea-10c5b55fc2ce"
      },
      "execution_count": 2,
      "outputs": [
        {
          "output_type": "stream",
          "name": "stdout",
          "text": [
            "Reading package lists... Done\n",
            "Building dependency tree... Done\n",
            "Reading state information... Done\n",
            "graphviz is already the newest version (2.42.2-6ubuntu0.1).\n",
            "libgraphviz-dev is already the newest version (2.42.2-6ubuntu0.1).\n",
            "The following packages were automatically installed and are no longer required:\n",
            "  libbz2-dev libpkgconf3 libreadline-dev\n",
            "Use 'apt autoremove' to remove them.\n",
            "0 upgraded, 0 newly installed, 0 to remove and 50 not upgraded.\n",
            "Collecting pygraphviz\n",
            "  Using cached pygraphviz-1.14-cp312-cp312-linux_x86_64.whl\n",
            "Installing collected packages: pygraphviz\n",
            "  Attempting uninstall: pygraphviz\n",
            "    Found existing installation: pygraphviz 1.14\n",
            "    Uninstalling pygraphviz-1.14:\n",
            "      Successfully uninstalled pygraphviz-1.14\n",
            "Successfully installed pygraphviz-1.14\n"
          ]
        }
      ]
    },
    {
      "cell_type": "code",
      "execution_count": 3,
      "metadata": {
        "id": "-qrxYe96iHJh"
      },
      "outputs": [],
      "source": [
        "from langgraph.graph import StateGraph, END, START\n",
        "from langgraph.types import Send\n",
        "from typing import TypedDict, Annotated, List, Literal\n",
        "from pydantic import BaseModel, Field\n",
        "import operator\n",
        "from langchain_openai import ChatOpenAI\n",
        "from langchain_core.prompts import ChatPromptTemplate\n",
        "from IPython.display import display, Image\n",
        "from pprint import pprint\n",
        "from google.colab import userdata\n",
        "\n"
      ]
    },
    {
      "cell_type": "code",
      "source": [
        "llm = ChatOpenAI(model=\"gpt-4o-mini\", temperature=0.7, api_key=userdata.get('OPENAI_API_KEY'))"
      ],
      "metadata": {
        "id": "Zkl8InG5olWa"
      },
      "execution_count": 18,
      "outputs": []
    },
    {
      "cell_type": "code",
      "source": [
        "class ChainState(TypedDict):\n",
        "    job_description: str\n",
        "    resume_summary: str\n",
        "    cover_letter: str"
      ],
      "metadata": {
        "id": "7BtSETSMo7gw"
      },
      "execution_count": 5,
      "outputs": []
    },
    {
      "cell_type": "code",
      "source": [
        "def generate_resume_summary(state: ChainState) -> ChainState:\n",
        "    prompt = f\"\"\"\n",
        "You're a resume assistant. Read the following job description and summarize the key qualifications and experience the ideal candidate should have, phrased as if from the perspective of a strong applicant's resume summary.\n",
        "\n",
        "Job Description:\n",
        "{state['job_description']}\n",
        "\"\"\"\n",
        "\n",
        "    response = llm.invoke(prompt)\n",
        "\n",
        "    return {**state, \"resume_summary\": response.content}"
      ],
      "metadata": {
        "id": "toQHoZZlrp2K"
      },
      "execution_count": 6,
      "outputs": []
    },
    {
      "cell_type": "code",
      "source": [
        "def generate_cover_letter(state: ChainState) -> ChainState:\n",
        "    prompt = f\"\"\"\n",
        "You're a cover letter writing assistant. Using the resume summary below, write a professional and personalized cover letter for the following job.\n",
        "\n",
        "Resume Summary:\n",
        "{state['resume_summary']}\n",
        "\n",
        "Job Description:\n",
        "{state['job_description']}\n",
        "\"\"\"\n",
        "\n",
        "    response = llm.invoke(prompt)\n",
        "\n",
        "    return {**state, \"cover_letter\": response.content}"
      ],
      "metadata": {
        "id": "upT1GXewrqxh"
      },
      "execution_count": 7,
      "outputs": []
    },
    {
      "cell_type": "code",
      "source": [
        "workflow = StateGraph(ChainState)\n",
        "workflow"
      ],
      "metadata": {
        "colab": {
          "base_uri": "https://localhost:8080/"
        },
        "id": "bTlQH2FYruH_",
        "outputId": "c05ff874-9b07-4e92-cc42-b7e21ac1b6ed"
      },
      "execution_count": 8,
      "outputs": [
        {
          "output_type": "execute_result",
          "data": {
            "text/plain": [
              "<langgraph.graph.state.StateGraph at 0x7bd240f3bf50>"
            ]
          },
          "metadata": {},
          "execution_count": 8
        }
      ]
    },
    {
      "cell_type": "code",
      "source": [
        "workflow.add_node(\"generate_resume_summary\", generate_resume_summary)\n",
        "workflow.add_node(\"generate_cover_letter\", generate_cover_letter)"
      ],
      "metadata": {
        "colab": {
          "base_uri": "https://localhost:8080/"
        },
        "id": "AfQCHbYHrwzn",
        "outputId": "5e088222-a309-4ca2-b3df-659a3cad3889"
      },
      "execution_count": 9,
      "outputs": [
        {
          "output_type": "execute_result",
          "data": {
            "text/plain": [
              "<langgraph.graph.state.StateGraph at 0x7bd240f3bf50>"
            ]
          },
          "metadata": {},
          "execution_count": 9
        }
      ]
    },
    {
      "cell_type": "code",
      "source": [
        "workflow.set_entry_point(\"generate_resume_summary\")"
      ],
      "metadata": {
        "colab": {
          "base_uri": "https://localhost:8080/"
        },
        "id": "YFwK432UrzPA",
        "outputId": "4f58d575-c782-474c-f732-4b6d5b23b472"
      },
      "execution_count": 10,
      "outputs": [
        {
          "output_type": "execute_result",
          "data": {
            "text/plain": [
              "<langgraph.graph.state.StateGraph at 0x7bd240f3bf50>"
            ]
          },
          "metadata": {},
          "execution_count": 10
        }
      ]
    },
    {
      "cell_type": "code",
      "source": [
        "workflow.add_edge(\"generate_resume_summary\", \"generate_cover_letter\")"
      ],
      "metadata": {
        "colab": {
          "base_uri": "https://localhost:8080/"
        },
        "id": "-rmPk80zr1Nl",
        "outputId": "e4e533d3-0751-4196-9174-62a97411d1a5"
      },
      "execution_count": 11,
      "outputs": [
        {
          "output_type": "execute_result",
          "data": {
            "text/plain": [
              "<langgraph.graph.state.StateGraph at 0x7bd240f3bf50>"
            ]
          },
          "metadata": {},
          "execution_count": 11
        }
      ]
    },
    {
      "cell_type": "code",
      "source": [
        "workflow.set_finish_point(\"generate_cover_letter\")"
      ],
      "metadata": {
        "colab": {
          "base_uri": "https://localhost:8080/"
        },
        "id": "h3uCeeAVr4B_",
        "outputId": "da483116-64f9-4307-d18d-ac26ad42295b"
      },
      "execution_count": 12,
      "outputs": [
        {
          "output_type": "execute_result",
          "data": {
            "text/plain": [
              "<langgraph.graph.state.StateGraph at 0x7bd240f3bf50>"
            ]
          },
          "metadata": {},
          "execution_count": 12
        }
      ]
    },
    {
      "cell_type": "code",
      "source": [
        "def print_workflow_info(workflow, app=None):\n",
        "    \"\"\"Prints comprehensive information about a LangGraph workflow.\"\"\"\n",
        "    print(\"WORKFLOW INFORMATION\")\n",
        "    print(\"====================\")\n",
        "    print(f\"Nodes: {workflow.nodes}\")\n",
        "    print(f\"Edges: {workflow.edges}\")\n",
        "\n",
        "\n",
        "    # Use getter method for finish points if available\n",
        "    try:\n",
        "        finish_points = workflow.finish_points\n",
        "        print(f\"Finish points: {finish_points}\")\n",
        "    except:\n",
        "        try:\n",
        "            # Alternative approaches\n",
        "            print(f\"Finish point: {workflow._finish_point}\")\n",
        "        except:\n",
        "            print(\"Finish points attribute not directly accessible\")\n",
        "\n",
        "    if app:\n",
        "        print(\"\\nWorkflow Visualization:\")\n",
        "        from IPython.display import display\n",
        "        display(app.get_graph().draw_png())"
      ],
      "metadata": {
        "id": "E-8q6Qmar_zH"
      },
      "execution_count": 13,
      "outputs": []
    },
    {
      "cell_type": "code",
      "source": [
        "print_workflow_info(workflow)"
      ],
      "metadata": {
        "colab": {
          "base_uri": "https://localhost:8080/"
        },
        "id": "K1LB8mM3r6ml",
        "outputId": "7142725b-8861-4ff7-9e29-5b4e7011d155"
      },
      "execution_count": 14,
      "outputs": [
        {
          "output_type": "stream",
          "name": "stdout",
          "text": [
            "WORKFLOW INFORMATION\n",
            "====================\n",
            "Nodes: {'generate_resume_summary': StateNodeSpec(runnable=generate_resume_summary(tags=None, recurse=True, explode_args=False, func_accepts={}), metadata=None, input_schema=<class '__main__.ChainState'>, retry_policy=None, cache_policy=None, ends=(), defer=False), 'generate_cover_letter': StateNodeSpec(runnable=generate_cover_letter(tags=None, recurse=True, explode_args=False, func_accepts={}), metadata=None, input_schema=<class '__main__.ChainState'>, retry_policy=None, cache_policy=None, ends=(), defer=False)}\n",
            "Edges: {('__start__', 'generate_resume_summary'), ('generate_cover_letter', '__end__'), ('generate_resume_summary', 'generate_cover_letter')}\n",
            "Finish points attribute not directly accessible\n"
          ]
        }
      ]
    },
    {
      "cell_type": "code",
      "source": [
        "app = workflow.compile()"
      ],
      "metadata": {
        "id": "qaBNlx_YsEyK"
      },
      "execution_count": 15,
      "outputs": []
    },
    {
      "cell_type": "code",
      "source": [
        "# Generate a visualization of the workflow graph\n",
        "display(Image(app.get_graph().draw_png()))"
      ],
      "metadata": {
        "colab": {
          "base_uri": "https://localhost:8080/",
          "height": 508
        },
        "id": "_Tqn-oOpteWG",
        "outputId": "009af0b2-8691-44c6-e208-4d695c1e4093"
      },
      "execution_count": 16,
      "outputs": [
        {
          "output_type": "display_data",
          "data": {
            "image/png": "[encoded data removed]",
            "text/plain": [
              "<IPython.core.display.Image object>"
            ]
          },
          "metadata": {}
        }
      ]
    },
    {
      "cell_type": "code",
      "source": [
        "input_state = {\n",
        "        \"job_description\": \"We are looking for a data scientist with experience in machine learning, NLP, and Python. Prior work with large datasets and experience deploying models into production is required.\"\n",
        "}\n",
        "\n",
        "result = app.invoke(input_state)"
      ],
      "metadata": {
        "id": "MkrEJNi4u1qm"
      },
      "execution_count": 19,
      "outputs": []
    },
    {
      "cell_type": "code",
      "source": [
        "result['resume_summary']"
      ],
      "metadata": {
        "colab": {
          "base_uri": "https://localhost:8080/",
          "height": 122
        },
        "id": "4daYriaIvI6l",
        "outputId": "651fb4d8-dba4-4615-a533-9dc2a76b8ba9"
      },
      "execution_count": 20,
      "outputs": [
        {
          "output_type": "execute_result",
          "data": {
            "text/plain": [
              "'**Resume Summary:**\\n\\nResults-driven Data Scientist with extensive experience in machine learning and natural language processing (NLP), proficient in Python programming. Demonstrated expertise in handling large datasets and deploying robust models into production environments. Proven ability to leverage advanced analytical skills to derive actionable insights and drive data-driven decision-making. Committed to continuous learning and staying current with emerging technologies in the data science field.'"
            ],
            "application/vnd.google.colaboratory.intrinsic+json": {
              "type": "string"
            }
          },
          "metadata": {},
          "execution_count": 20
        }
      ]
    },
    {
      "cell_type": "code",
      "source": [
        "result['job_description']"
      ],
      "metadata": {
        "colab": {
          "base_uri": "https://localhost:8080/",
          "height": 53
        },
        "id": "THMLHw7wvPSa",
        "outputId": "ade6c7fe-0d48-44c4-d272-3ff35bc8ec16"
      },
      "execution_count": 21,
      "outputs": [
        {
          "output_type": "execute_result",
          "data": {
            "text/plain": [
              "'We are looking for a data scientist with experience in machine learning, NLP, and Python. Prior work with large datasets and experience deploying models into production is required.'"
            ],
            "application/vnd.google.colaboratory.intrinsic+json": {
              "type": "string"
            }
          },
          "metadata": {},
          "execution_count": 21
        }
      ]
    },
    {
      "cell_type": "code",
      "source": [
        "result['cover_letter']"
      ],
      "metadata": {
        "colab": {
          "base_uri": "https://localhost:8080/",
          "height": 192
        },
        "id": "PBPCQMBvvlcj",
        "outputId": "e539b9fd-e959-4a11-e72c-bb63dbaf8681"
      },
      "execution_count": 22,
      "outputs": [
        {
          "output_type": "execute_result",
          "data": {
            "text/plain": [
              "\"[Your Name]  \\n[Your Address]  \\n[City, State, Zip]  \\n[Your Email]  \\n[Your Phone Number]  \\n[Date]  \\n\\n[Employer's Name]  \\n[Company's Name]  \\n[Company's Address]  \\n[City, State, Zip]  \\n\\nDear [Employer's Name],\\n\\nI am writing to express my interest in the Data Scientist position at [Company's Name] as advertised. With a strong background in machine learning, natural language processing (NLP), and Python programming, coupled with my experience in handling large datasets and deploying models into production, I am excited about the opportunity to contribute to your team.\\n\\nThroughout my career, I have focused on leveraging data to drive strategic decision-making. My hands-on experience with machine learning algorithms has enabled me to build and deploy robust models that address complex business challenges. At [Previous Company Name], I successfully led a project where I developed an NLP-driven application that significantly improved customer sentiment analysis, resulting in a 20% increase in customer satisfaction scores. This experience honed my ability to translate technical insights into actionable strategies that resonate with stakeholders.\\n\\nI am particularly drawn to this role at [Company's Name] because of your commitment to innovation and excellence in the data science field. I admire your team's work in [specific project or initiative of the company], and I believe my skills and passion for continuous learning align well with your mission. I am eager to stay at the forefront of emerging technologies and methodologies, ensuring that the solutions I develop are not only effective but also future-proof.\\n\\nI am excited about the prospect of bringing my unique expertise to [Company's Name] and collaborating with like-minded professionals who are dedicated to pushing the boundaries of data science. I am confident that my proactive approach to problem-solving and my strong analytical skills will make a positive impact on your team.\\n\\nThank you for considering my application. I look forward to the opportunity to discuss how my background, skills, and enthusiasms align with the goals of [Company's Name]. I am available for an interview at your convenience and can be reached at [Your Phone Number] or [Your Email].\\n\\nWarm regards,\\n\\n[Your Name]\""
            ],
            "application/vnd.google.colaboratory.intrinsic+json": {
              "type": "string"
            }
          },
          "metadata": {},
          "execution_count": 22
        }
      ]
    }
  ]
}