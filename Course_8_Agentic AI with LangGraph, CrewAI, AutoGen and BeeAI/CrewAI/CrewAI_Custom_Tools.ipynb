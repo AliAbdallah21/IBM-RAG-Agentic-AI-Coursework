{
  "nbformat": 4,
  "nbformat_minor": 0,
  "metadata": {
    "colab": {
      "provenance": []
    },
    "kernelspec": {
      "name": "python3",
      "display_name": "Python 3"
    },
    "language_info": {
      "name": "python"
    }
  },
  "cells": [
    {
      "cell_type": "code",
      "source": [
        "%%capture\n",
        "!pip install crewai\n",
        "!pip install crewai-tools"
      ],
      "metadata": {
        "id": "bV26AsSbRac3"
      },
      "execution_count": 2,
      "outputs": []
    },
    {
      "cell_type": "code",
      "source": [
        "%%capture\n",
        "from crewai import Agent, Task, Crew, Process\n",
        "from crewai import LLM\n",
        "from crewai_tools import PDFSearchTool, SerperDevTool\n",
        "from google.colab import userdata"
      ],
      "metadata": {
        "id": "tz5iN6gfRhfo"
      },
      "execution_count": 6,
      "outputs": []
    },
    {
      "cell_type": "code",
      "source": [
        "api_key = userdata.get('OPENAI_API_KEY')\n",
        "llm = LLM(model=\"gpt-4o\", api_key=api_key)"
      ],
      "metadata": {
        "id": "_16r7_kgRlM2"
      },
      "execution_count": 7,
      "outputs": []
    },
    {
      "cell_type": "code",
      "execution_count": 8,
      "metadata": {
        "id": "n1ffV4LSRNZm"
      },
      "outputs": [],
      "source": [
        "from crewai.tools import tool\n",
        "import re\n",
        "\n",
        "@tool(\"Add Two Numbers Tool\")\n",
        "def add_numbers(data: str) -> int:\n",
        "    \"\"\"\n",
        "    Extracts and adds integers from the input string.\n",
        "    Example input: 'add 1 and 2' or '[1,2,3,4]'\n",
        "    Output: sum of the numbers\n",
        "    \"\"\"\n",
        "    # Find all integers in the string\n",
        "    numbers = list(map(int, re.findall(r'-?\\d+', data)))\n",
        "    return sum(numbers)"
      ]
    },
    {
      "cell_type": "code",
      "source": [
        "from functools import reduce\n",
        "\n",
        "@tool(\"Multiply Numbers Tool\")\n",
        "def multiply_numbers(data: str) -> int:\n",
        "    \"\"\"\n",
        "    Extracts and multiplies integers from the input string.\n",
        "    Example input: 'multiply 2 and 3' or '[2,3,4]'\n",
        "    Output: the product of all numbers found\n",
        "    \"\"\"\n",
        "    numbers = list(map(int, re.findall(r'-?\\d+', data)))\n",
        "    return reduce(lambda x, y: x * y, numbers, 1)"
      ],
      "metadata": {
        "id": "HUjTIgebRT-_"
      },
      "execution_count": 9,
      "outputs": []
    },
    {
      "cell_type": "code",
      "source": [
        "calculator_agent = Agent(\n",
        "    role=\"Calculator\",\n",
        "    goal=\"Extracts, adds, or multiplies numbers when asked, using the Add Two Numbers and Multiply Numbers tools.\",\n",
        "    backstory=\"An expert at parsing numeric instructions and computing sums or products.\",\n",
        "    tools=[add_numbers, multiply_numbers],\n",
        "    llm=llm,\n",
        "    allow_delegation=False\n",
        ")"
      ],
      "metadata": {
        "id": "DjCMl-EERVGc"
      },
      "execution_count": 10,
      "outputs": []
    },
    {
      "cell_type": "code",
      "source": [
        "calculation_task = Task(\n",
        "    description=\"Extract numbers from '{numbers}' and either add or multiply them, depending on the natural-language instruction.\",\n",
        "    expected_output=\"An integer result (sum or product) based on the user’s request.\",\n",
        "    agent=calculator_agent\n",
        ")"
      ],
      "metadata": {
        "id": "hCCqJRUSRdp7"
      },
      "execution_count": 11,
      "outputs": []
    },
    {
      "cell_type": "code",
      "source": [
        "crew = Crew(\n",
        "    agents=[calculator_agent],\n",
        "    tasks=[calculation_task],\n",
        "    # verbose=True #Uncomment this to see the steps taken to get the final answer\n",
        ")"
      ],
      "metadata": {
        "id": "8dS1pRSzSJMS"
      },
      "execution_count": 12,
      "outputs": []
    },
    {
      "cell_type": "code",
      "source": [
        "# Inputs for addition…\n",
        "result = crew.kickoff(inputs={'numbers': 'please add 4, 5, and 6'})\n",
        "print(\"Sum result:\", result)"
      ],
      "metadata": {
        "colab": {
          "base_uri": "https://localhost:8080/"
        },
        "id": "asoTl48sSKyr",
        "outputId": "95735c55-814d-4d12-ba1d-422fa3dc70ca"
      },
      "execution_count": 13,
      "outputs": [
        {
          "output_type": "stream",
          "name": "stdout",
          "text": [
            "Sum result: 15\n"
          ]
        }
      ]
    },
    {
      "cell_type": "code",
      "source": [
        "# Inputs for multiplication…\n",
        "result = crew.kickoff(inputs={'numbers': 'multiply 7 and 8 also 9 dont forget 10'})\n",
        "print(\"Product result:\", result)"
      ],
      "metadata": {
        "colab": {
          "base_uri": "https://localhost:8080/"
        },
        "id": "M3__EzPOSMEY",
        "outputId": "7708bcd9-11e7-41f3-d1f2-67dd409c71fd"
      },
      "execution_count": 14,
      "outputs": [
        {
          "output_type": "stream",
          "name": "stdout",
          "text": [
            "Product result: 5040\n"
          ]
        }
      ]
    },
    {
      "cell_type": "code",
      "source": [],
      "metadata": {
        "id": "6EImlrewSOsi"
      },
      "execution_count": null,
      "outputs": []
    }
  ]
}