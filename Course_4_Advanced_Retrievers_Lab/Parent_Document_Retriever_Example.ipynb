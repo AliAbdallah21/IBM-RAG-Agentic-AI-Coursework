{
  "nbformat": 4,
  "nbformat_minor": 0,
  "metadata": {
    "colab": {
      "provenance": []
    },
    "kernelspec": {
      "name": "python3",
      "display_name": "Python 3"
    },
    "language_info": {
      "name": "python"
    }
  },
  "cells": [
    {
      "cell_type": "code",
      "execution_count": 1,
      "metadata": {
        "id": "e2cLB9rwYV5N"
      },
      "outputs": [],
      "source": [
        "# @title Installations\n",
        "# The %%capture command hides the installation output.\n",
        "%%capture\n",
        "!pip install langchain\n",
        "!pip install lark\n",
        "!pip install openai\n",
        "!pip install chromadb\n",
        "!pip install langchain_openai\n",
        "!pip install langchain_chroma\n",
        "!pip install langchain_community\n",
        "!pip install langchain_community\n"
      ]
    },
    {
      "cell_type": "code",
      "source": [
        "# @title Imports\n",
        "from langchain_core.documents import Document\n",
        "from langchain.chains.query_constructor.base import AttributeInfo\n",
        "from langchain.retrievers.self_query.base import SelfQueryRetriever\n",
        "from langchain_openai import OpenAI, OpenAIEmbeddings\n",
        "from langchain_chroma import Chroma\n",
        "from langchain_community.chat_models import ChatOpenAI\n",
        "import os\n",
        "from google.colab import userdata\n",
        "from langchain.retrievers import ParentDocumentRetriever\n",
        "from langchain_text_splitters import CharacterTextSplitter\n",
        "from langchain.storage import InMemoryStore"
      ],
      "metadata": {
        "id": "t9Kt96CdYejs"
      },
      "execution_count": 3,
      "outputs": []
    },
    {
      "cell_type": "code",
      "source": [
        "# @title Docs\n",
        "# This is a new set of documents related to company policies.\n",
        "docs = [\n",
        "    Document(\n",
        "        page_content=(\n",
        "            \"Smoking Restrictions: Smoking inside company buildings, offices, \"\n",
        "            \"meeting rooms, and other enclosed spaces is strictly prohibited. \"\n",
        "            \"This includes electronic cigarettes and vaping devices. In compliance \"\n",
        "            \"with Applicable Laws: All employees and visitors must adhere to \"\n",
        "            \"relevant federal, state, and local smoking laws and regulations. \"\n",
        "            \"Disposal of Smoking Materials: Properly dispose of cigarette butts \"\n",
        "            \"and related materials in designated receptacles. Littering on \"\n",
        "            \"company premises is prohibited. No Smoking in Company Vehicles: \"\n",
        "            \"Smoking is not permitted in company vehicles, whether they are owned \"\n",
        "            \"or leased, to maintain the condition and cleanliness of these \"\n",
        "            \"vehicles. Enforcement and Consequences: All employees and visitors \"\n",
        "            \"are expected to adhere to this policy. Non-compliance may lead to \"\n",
        "            \"appropriate disciplinary action, which could include fines, or, in \"\n",
        "            \"the case of employees, possible termination of employment. Review of \"\n",
        "            \"Policy: This policy will be reviewed periodically to ensure its \"\n",
        "            \"alignment with evolving legal requirements and best practices for \"\n",
        "            \"maintaining a healthy and safe workplace. We appreciate your \"\n",
        "            \"cooperation in maintaining a smoke-free and safe environment for all.\"\n",
        "        ),\n",
        "        metadata={\"source\": \"companypolicies.txt\", \"policy_name\": \"Smoking Policy\"},\n",
        "    ),\n",
        "    Document(\n",
        "        page_content=(\n",
        "            \"Drug and Alcohol Policy: The Drug and Alcohol Policy is established \"\n",
        "            \"to establish clear expectations and guidelines for the responsible \"\n",
        "            \"use of drugs and alcohol within the organization. This policy aims \"\n",
        "            \"to maintain a safe, healthy, and productive workplace. Prohibited \"\n",
        "            \"Substances: The use, possession, distribution, or sale of illegal \"\n",
        "            \"drugs or unauthorized controlled substances is strictly prohibited \"\n",
        "            \"on company premises or during work-related activities. This includes \"\n",
        "            \"the misuse of prescription drugs. Alcohol Consumption: The \"\n",
        "            \"consumption of alcoholic beverages is not allowed during work hours, \"\n",
        "            \"on company property, or while performing company-related duties. \"\n",
        "            \"Exception may be made for company-sanctioned events.\"\n",
        "        ),\n",
        "        metadata={\"source\": \"companypolicies.txt\", \"policy_name\": \"Drug and Alcohol Policy\"},\n",
        "    ),\n",
        "    Document(\n",
        "        page_content=(\n",
        "            \"Harassment Policy: Our company is committed to providing a work \"\n",
        "            \"environment free of harassment. Harassment is defined as any \"\n",
        "            \"unwelcome conduct, whether verbal, physical, or visual, based on \"\n",
        "            \"an individual’s race, color, religion, sex, national origin, age, \"\n",
        "            \"disability, or any other legally protected characteristic. This \"\n",
        "            \"policy applies to all employees, supervisors, managers, and \"\n",
        "            \"third parties. Reporting Procedure: Any employee who believes they \"\n",
        "            \"have been subjected to harassment should report the incident to \"\n",
        "            \"their supervisor or Human Resources immediately. All reports will \"\n",
        "            \"be investigated promptly and confidentially. Retaliation: Retaliation \"\n",
        "            \"against any employee who reports harassment or assists in an \"\n",
        "            \"investigation is strictly prohibited.\"\n",
        "        ),\n",
        "        metadata={\"source\": \"companypolicies.txt\", \"policy_name\": \"Harassment Policy\"},\n",
        "    ),\n",
        "    Document(\n",
        "        page_content=(\n",
        "            \"Code of Conduct: This Code of Conduct outlines the ethical and \"\n",
        "            \"professional standards expected of all employees. Employees must \"\n",
        "            \"act with integrity, honesty, and respect for others. Conflicts of \"\n",
        "            \"Interest: Employees must avoid any activity that creates a conflict \"\n",
        "            \"of interest with the company. Confidentiality: Employees must not \"\n",
        "            \"disclose confidential company information to unauthorized parties. \"\n",
        "            \"Reporting Violations: Employees are encouraged to report any observed \"\n",
        "            \"violations of this Code of Conduct to their supervisor or through \"\n",
        "            \"the confidential reporting hotline.\"\n",
        "        ),\n",
        "        metadata={\"source\": \"companypolicies.txt\", \"policy_name\": \"Code of Conduct\"},\n",
        "    ),\n",
        "]\n"
      ],
      "metadata": {
        "id": "asOjfIAqcXbU"
      },
      "execution_count": 18,
      "outputs": []
    },
    {
      "cell_type": "code",
      "source": [
        "# @title Splitters\n",
        "\n",
        "# Parent is with bug chunk size , child is with small chunk size\n",
        "parent_splitter = CharacterTextSplitter(\n",
        "    chunk_size=2000,\n",
        "    chunk_overlap=20,\n",
        "    separator=\"\\n\"\n",
        ")\n",
        "\n",
        "child_splitter = CharacterTextSplitter(\n",
        "    chunk_size=400,\n",
        "    chunk_overlap=20,\n",
        "    separator= \"\\n\"\n",
        ")\n"
      ],
      "metadata": {
        "id": "7MHZwzigY6KD"
      },
      "execution_count": 26,
      "outputs": []
    },
    {
      "cell_type": "code",
      "source": [
        "# @title Environment Setup\n",
        "os.environ[\"OPENAI_API_KEY\"] = userdata.get('OPENAI_API_KEY')"
      ],
      "metadata": {
        "id": "IOkCDmyfaJX1"
      },
      "execution_count": 8,
      "outputs": []
    },
    {
      "cell_type": "code",
      "source": [
        "# @title Chroma DB and OpenAI Embeddings\n",
        "vectordb = Chroma(collection_name=\"split_parents\", embedding_function=OpenAIEmbeddings())"
      ],
      "metadata": {
        "id": "YAm-idjyaNpZ"
      },
      "execution_count": 10,
      "outputs": []
    },
    {
      "cell_type": "code",
      "source": [
        "retriever = ParentDocumentRetriever(\n",
        "    vectorstore=vectordb,\n",
        "    docstore=InMemoryStore(),\n",
        "    child_splitter=child_splitter,\n",
        "    parent_splitter=parent_splitter,\n",
        ")\n",
        "retriever.add_documents(docs)"
      ],
      "metadata": {
        "id": "Lv954Ai_amoA"
      },
      "execution_count": 27,
      "outputs": []
    },
    {
      "cell_type": "code",
      "source": [
        "retriever.invoke(\"smoking policy\")"
      ],
      "metadata": {
        "colab": {
          "base_uri": "https://localhost:8080/"
        },
        "id": "9G4XzbLFbwve",
        "outputId": "f48fd63f-6826-4f11-d006-480ff30ab60c"
      },
      "execution_count": 28,
      "outputs": [
        {
          "output_type": "execute_result",
          "data": {
            "text/plain": [
              "[Document(metadata={'source': 'companypolicies.txt', 'policy_name': 'Smoking Policy'}, page_content='Smoking Restrictions: Smoking inside company buildings, offices, meeting rooms, and other enclosed spaces is strictly prohibited. This includes electronic cigarettes and vaping devices. In compliance with Applicable Laws: All employees and visitors must adhere to relevant federal, state, and local smoking laws and regulations. Disposal of Smoking Materials: Properly dispose of cigarette butts and related materials in designated receptacles. Littering on company premises is prohibited. No Smoking in Company Vehicles: Smoking is not permitted in company vehicles, whether they are owned or leased, to maintain the condition and cleanliness of these vehicles. Enforcement and Consequences: All employees and visitors are expected to adhere to this policy. Non-compliance may lead to appropriate disciplinary action, which could include fines, or, in the case of employees, possible termination of employment. Review of Policy: This policy will be reviewed periodically to ensure its alignment with evolving legal requirements and best practices for maintaining a healthy and safe workplace. We appreciate your cooperation in maintaining a smoke-free and safe environment for all.'),\n",
              " Document(metadata={'source': 'companypolicies.txt', 'policy_name': 'Drug and Alcohol Policy'}, page_content='Drug and Alcohol Policy: The Drug and Alcohol Policy is established to establish clear expectations and guidelines for the responsible use of drugs and alcohol within the organization. This policy aims to maintain a safe, healthy, and productive workplace. Prohibited Substances: The use, possession, distribution, or sale of illegal drugs or unauthorized controlled substances is strictly prohibited on company premises or during work-related activities. This includes the misuse of prescription drugs. Alcohol Consumption: The consumption of alcoholic beverages is not allowed during work hours, on company property, or while performing company-related duties. Exception may be made for company-sanctioned events.'),\n",
              " Document(metadata={'source': 'companypolicies.txt', 'policy_name': 'Harassment Policy'}, page_content='Harassment Policy: Our company is committed to providing a work environment free of harassment. Harassment is defined as any unwelcome conduct, whether verbal, physical, or visual, based on an individual’s race, color, religion, sex, national origin, age, disability, or any other legally protected characteristic. This policy applies to all employees, supervisors, managers, and third parties. Reporting Procedure: Any employee who believes they have been subjected to harassment should report the incident to their supervisor or Human Resources immediately. All reports will be investigated promptly and confidentially. Retaliation: Retaliation against any employee who reports harassment or assists in an investigation is strictly prohibited.'),\n",
              " Document(metadata={'source': 'companypolicies.txt', 'policy_name': 'Code of Conduct'}, page_content='Code of Conduct: This Code of Conduct outlines the ethical and professional standards expected of all employees. Employees must act with integrity, honesty, and respect for others. Conflicts of Interest: Employees must avoid any activity that creates a conflict of interest with the company. Confidentiality: Employees must not disclose confidential company information to unauthorized parties. Reporting Violations: Employees are encouraged to report any observed violations of this Code of Conduct to their supervisor or through the confidential reporting hotline.')]"
            ]
          },
          "metadata": {},
          "execution_count": 28
        }
      ]
    }
  ]
}