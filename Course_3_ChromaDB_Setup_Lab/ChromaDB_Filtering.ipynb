{
  "nbformat": 4,
  "nbformat_minor": 0,
  "metadata": {
    "colab": {
      "provenance": []
    },
    "kernelspec": {
      "name": "python3",
      "display_name": "Python 3"
    },
    "language_info": {
      "name": "python"
    }
  },
  "cells": [
    {
      "cell_type": "code",
      "execution_count": null,
      "metadata": {
        "id": "9etvsteY87Sd"
      },
      "outputs": [],
      "source": [
        "%%capture\n",
        "# @title Step 1: Install Required Libraries\n",
        "!pip install chromadb sentence-transformers\n",
        "\n",
        "print(\"Libraries installed successfully. Proceed to the next step for imports.\")\n"
      ]
    },
    {
      "cell_type": "code",
      "source": [
        "# @title Step 2: Import Necessary Modules\n",
        "\n",
        "import chromadb\n",
        "from chromadb.utils import embedding_functions\n",
        "import os\n",
        "\n",
        "print(\"Modules imported successfully. Now, initialize the ChromaDB client and embedding function.\")\n"
      ],
      "metadata": {
        "id": "lVY7OxxbBcaW"
      },
      "execution_count": null,
      "outputs": []
    },
    {
      "cell_type": "code",
      "source": [
        "# @title Step 3: Initialize ChromaDB Client and Embedding Function\n",
        "client = chromadb.Client() # In-memory client initialized.\n",
        "\n",
        "print(\"ChromaDB client initialized (in-memory).\")\n",
        "\n",
        "embedding_function = embedding_functions.SentenceTransformerEmbeddingFunction(\n",
        "    model_name=\"all-MiniLM-L6-v2\"\n",
        ")\n",
        "\n",
        "print(f\"Embedding function loaded using model: {embedding_function.model_name}\")\n",
        "print(\"ChromaDB client and embedding function are ready. Proceed to create a collection.\")\n"
      ],
      "metadata": {
        "id": "LhChEflZBjpp"
      },
      "execution_count": null,
      "outputs": []
    },
    {
      "cell_type": "code",
      "source": [
        "# @title Step 4: Create or Get a ChromaDB Collection\n",
        "\n",
        "collection_name = \"rag_milestone_collection\"\n",
        "\n",
        "\n",
        "try:\n",
        "    collection = client.get_or_create_collection(\n",
        "        name=collection_name,\n",
        "        embedding_function=embedding_function\n",
        "    )\n",
        "    print(f\"Collection '{collection_name}' created or retrieved successfully.\")\n",
        "except Exception as e:\n",
        "    print(f\"Error creating/getting collection: {e}\")\n",
        "    # In Colab, sometimes a previous run might leave a corrupted state.\n",
        "    # This block attempts to delete and re-create for a clean slate.\n",
        "    try:\n",
        "        print(f\"Attempting to delete and re-create collection '{collection_name}'...\")\n",
        "        client.delete_collection(name=collection_name)\n",
        "        collection = client.get_or_create_collection(\n",
        "            name=collection_name,\n",
        "            embedding_function=embedding_function\n",
        "        )\n",
        "        print(f\"Collection '{collection_name}' re-created successfully.\")\n",
        "    except Exception as e_recreate:\n",
        "        print(f\"Failed to delete and re-create collection: {e_recreate}\")\n",
        "        print(\"Please consider restarting your Colab runtime (Runtime -> Restart runtime) and running all cells from the beginning.\")\n",
        "\n",
        "print(\"Collection is ready for adding documents.\")\n"
      ],
      "metadata": {
        "id": "6wVktrszFvRU"
      },
      "execution_count": null,
      "outputs": []
    },
    {
      "cell_type": "code",
      "source": [
        "# @title Step 5: Add Documents and Verify Collection Contents\n",
        "\n",
        "# Array of grocery-related text items\n",
        "texts = [\n",
        "    'fresh red apples',\n",
        "    'organic bananas',\n",
        "    'ripe mangoes',\n",
        "    'whole wheat bread',\n",
        "    'farm-fresh eggs',\n",
        "    'natural yogurt',\n",
        "    'frozen vegetables',\n",
        "    'grass-fed beef',\n",
        "    'free-range chicken',\n",
        "    'fresh salmon fillet',\n",
        "    'aromatic coffee beans',\n",
        "    'pure honey',\n",
        "    'golden apple',\n",
        "    'red fruit'\n",
        "]\n",
        "\n",
        "# Create a list of unique IDs for each text item in the 'texts' array\n",
        "# Each ID follows the format 'food_<index>', where <index> starts from 1\n",
        "ids = [f\"food_{index + 1}\" for index, _ in enumerate(texts)]\n",
        "\n",
        "\n",
        "try:\n",
        "    collection.add(\n",
        "        documents=texts,\n",
        "        metadatas=[{\"source\": \"grocery_store\", \"category\": \"food\"} for _ in texts],\n",
        "        ids=ids\n",
        "    )\n",
        "    print(f\"\\nSuccessfully added {len(texts)} grocery items to the collection.\")\n",
        "except Exception as e:\n",
        "    print(f\"Error adding documents: {e}\")\n",
        "    print(\"Please check your input data and the collection's status.\")\n",
        "\n",
        "\n",
        "# Retrieve all the items (documents) stored in the collection\n",
        "# The `get` method fetches all data from the collection\n",
        "all_items = collection.get()\n",
        "\n",
        "# Log the retrieved items to the console for inspection\n",
        "# This will print out all the documents, IDs, and metadata stored in the collection\n",
        "print(\"\\n--- Collection contents (retrieved using .get()) ---\")\n",
        "print(f\"Number of documents: {len(all_items['documents'])}\")\n",
        "# Optionally, you can print a few retrieved items to verify\n",
        "print(\"Sample retrieved documents:\")\n",
        "for i in range(min(3, len(all_items['documents']))):\n",
        "    print(f\"  ID: {all_items['ids'][i]}, Document: '{all_items['documents'][i]}', Metadata: {all_items['metadatas'][i]}\")\n",
        "\n",
        "print(\"\\nDocuments added and collection contents verified. Proceed to querying.\")\n"
      ],
      "metadata": {
        "id": "aCklFOjJGED9"
      },
      "execution_count": null,
      "outputs": []
    },
    {
      "cell_type": "code",
      "source": [
        "# @title Step 6: Perform a Similarity Search Function\n",
        "\n",
        "# Function to perform a similarity search in the collection\n",
        "def perform_similarity_search(collection):\n",
        "    try:\n",
        "        # Define the query term you want to search for in the collection\n",
        "        query_term = \"red fruit\" # You can change this query term\n",
        "\n",
        "        # Perform a query to search for the most similar documents to the 'query_term'\n",
        "        # n_results specifies the number of top results to retrieve.\n",
        "        results = collection.query(\n",
        "            query_texts=[query_term],\n",
        "            n_results=3,  # Retrieve top 3 results\n",
        "            include=['documents', 'metadatas', 'distances'] # Ensure full results are included\n",
        "        )\n",
        "\n",
        "        print(f\"\\n--- Similarity Search Results for '{query_term}' ---\")\n",
        "        if results and results['documents'] and results['documents'][0]:\n",
        "            for i in range(len(results['documents'][0])):\n",
        "                doc_content = results['documents'][0][i]\n",
        "                metadata = results['metadatas'][0][i] if results['metadatas'] and results['metadatas'][0] else \"N/A\"\n",
        "                distance = results['distances'][0][i] if results['distances'] and results['distances'][0] else \"N/A\"\n",
        "                print(f\"Result {i+1}:\")\n",
        "                print(f\"  Content: '{doc_content}'\")\n",
        "                print(f\"  Metadata: {metadata}\")\n",
        "                print(f\"  Distance: {distance:.4f}\") # Lower distance means higher similarity\n",
        "        else:\n",
        "            print(\"No results found for the query.\")\n",
        "\n",
        "    except Exception as error:\n",
        "        print(f\"Error in similarity search: {error}\")\n",
        "\n",
        "# Call the function to perform the similarity search\n",
        "perform_similarity_search(collection)\n",
        "\n",
        "print(\"\\nSimilarity search function defined and executed.\")\n"
      ],
      "metadata": {
        "id": "87SG85TFHQjH"
      },
      "execution_count": null,
      "outputs": []
    },
    {
      "cell_type": "code",
      "source": [],
      "metadata": {
        "id": "VqCyKuocHa9j"
      },
      "execution_count": null,
      "outputs": []
    }
  ]
}