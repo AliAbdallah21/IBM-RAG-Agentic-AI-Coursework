{
  "nbformat": 4,
  "nbformat_minor": 0,
  "metadata": {
    "colab": {
      "provenance": []
    },
    "kernelspec": {
      "name": "python3",
      "display_name": "Python 3"
    },
    "language_info": {
      "name": "python"
    }
  },
  "cells": [
    {
      "cell_type": "code",
      "source": [
        "%%capture\n",
        "!pip install  langchain\n",
        "!pip install  langchain-experimental\n",
        "!pip install  matplotlib\n",
        "!pip install  seaborn\n",
        "!pip install  openai\n",
        "!pip install  tiktoken\n",
        "!pip install  pandas\n",
        "!pip install  langchain-openai"
      ],
      "metadata": {
        "id": "0nVK4GgkJ1ch"
      },
      "execution_count": 36,
      "outputs": []
    },
    {
      "cell_type": "code",
      "source": [
        "from langchain_experimental.agents.agent_toolkits import create_pandas_dataframe_agent\n",
        "\n",
        "import matplotlib.pyplot as plt\n",
        "import pandas as pd"
      ],
      "metadata": {
        "id": "2thSgh-JKBSR"
      },
      "execution_count": 29,
      "outputs": []
    },
    {
      "cell_type": "code",
      "source": [
        "df = pd.read_csv('/content/student-mat.csv')"
      ],
      "metadata": {
        "id": "_9Lhj62RGFAd"
      },
      "execution_count": 10,
      "outputs": []
    },
    {
      "cell_type": "code",
      "source": [
        "df.head(5)"
      ],
      "metadata": {
        "colab": {
          "base_uri": "https://localhost:8080/",
          "height": 256
        },
        "id": "kkQDtBZgGZEd",
        "outputId": "5b4b657c-9a35-47b0-84f5-b7bad6379c94"
      },
      "execution_count": 11,
      "outputs": [
        {
          "output_type": "execute_result",
          "data": {
            "text/plain": [
              "  school sex  age address famsize Pstatus  Medu  Fedu     Mjob      Fjob  ...  \\\n",
              "0     GP   F   18       U     GT3       A     4     4  at_home   teacher  ...   \n",
              "1     GP   F   17       U     GT3       T     1     1  at_home     other  ...   \n",
              "2     GP   F   15       U     LE3       T     1     1  at_home     other  ...   \n",
              "3     GP   F   15       U     GT3       T     4     2   health  services  ...   \n",
              "4     GP   F   16       U     GT3       T     3     3    other     other  ...   \n",
              "\n",
              "  famrel freetime  goout  Dalc  Walc health absences  G1  G2  G3  \n",
              "0      4        3      4     1     1      3        6   5   6   6  \n",
              "1      5        3      3     1     1      3        4   5   5   6  \n",
              "2      4        3      2     2     3      3       10   7   8  10  \n",
              "3      3        2      2     1     1      5        2  15  14  15  \n",
              "4      4        3      2     1     2      5        4   6  10  10  \n",
              "\n",
              "[5 rows x 33 columns]"
            ],
            "text/html": [
              "\n",
              "  <div id=\"df-132b8bcc-a9fe-43d0-ba2b-37a5a67cf3ce\" class=\"colab-df-container\">\n",
              "    <div>\n",
              "<style scoped>\n",
              "    .dataframe tbody tr th:only-of-type {\n",
              "        vertical-align: middle;\n",
              "    }\n",
              "\n",
              "    .dataframe tbody tr th {\n",
              "        vertical-align: top;\n",
              "    }\n",
              "\n",
              "    .dataframe thead th {\n",
              "        text-align: right;\n",
              "    }\n",
              "</style>\n",
              "<table border=\"1\" class=\"dataframe\">\n",
              "  <thead>\n",
              "    <tr style=\"text-align: right;\">\n",
              "      <th></th>\n",
              "      <th>school</th>\n",
              "      <th>sex</th>\n",
              "      <th>age</th>\n",
              "      <th>address</th>\n",
              "      <th>famsize</th>\n",
              "      <th>Pstatus</th>\n",
              "      <th>Medu</th>\n",
              "      <th>Fedu</th>\n",
              "      <th>Mjob</th>\n",
              "      <th>Fjob</th>\n",
              "      <th>...</th>\n",
              "      <th>famrel</th>\n",
              "      <th>freetime</th>\n",
              "      <th>goout</th>\n",
              "      <th>Dalc</th>\n",
              "      <th>Walc</th>\n",
              "      <th>health</th>\n",
              "      <th>absences</th>\n",
              "      <th>G1</th>\n",
              "      <th>G2</th>\n",
              "      <th>G3</th>\n",
              "    </tr>\n",
              "  </thead>\n",
              "  <tbody>\n",
              "    <tr>\n",
              "      <th>0</th>\n",
              "      <td>GP</td>\n",
              "      <td>F</td>\n",
              "      <td>18</td>\n",
              "      <td>U</td>\n",
              "      <td>GT3</td>\n",
              "      <td>A</td>\n",
              "      <td>4</td>\n",
              "      <td>4</td>\n",
              "      <td>at_home</td>\n",
              "      <td>teacher</td>\n",
              "      <td>...</td>\n",
              "      <td>4</td>\n",
              "      <td>3</td>\n",
              "      <td>4</td>\n",
              "      <td>1</td>\n",
              "      <td>1</td>\n",
              "      <td>3</td>\n",
              "      <td>6</td>\n",
              "      <td>5</td>\n",
              "      <td>6</td>\n",
              "      <td>6</td>\n",
              "    </tr>\n",
              "    <tr>\n",
              "      <th>1</th>\n",
              "      <td>GP</td>\n",
              "      <td>F</td>\n",
              "      <td>17</td>\n",
              "      <td>U</td>\n",
              "      <td>GT3</td>\n",
              "      <td>T</td>\n",
              "      <td>1</td>\n",
              "      <td>1</td>\n",
              "      <td>at_home</td>\n",
              "      <td>other</td>\n",
              "      <td>...</td>\n",
              "      <td>5</td>\n",
              "      <td>3</td>\n",
              "      <td>3</td>\n",
              "      <td>1</td>\n",
              "      <td>1</td>\n",
              "      <td>3</td>\n",
              "      <td>4</td>\n",
              "      <td>5</td>\n",
              "      <td>5</td>\n",
              "      <td>6</td>\n",
              "    </tr>\n",
              "    <tr>\n",
              "      <th>2</th>\n",
              "      <td>GP</td>\n",
              "      <td>F</td>\n",
              "      <td>15</td>\n",
              "      <td>U</td>\n",
              "      <td>LE3</td>\n",
              "      <td>T</td>\n",
              "      <td>1</td>\n",
              "      <td>1</td>\n",
              "      <td>at_home</td>\n",
              "      <td>other</td>\n",
              "      <td>...</td>\n",
              "      <td>4</td>\n",
              "      <td>3</td>\n",
              "      <td>2</td>\n",
              "      <td>2</td>\n",
              "      <td>3</td>\n",
              "      <td>3</td>\n",
              "      <td>10</td>\n",
              "      <td>7</td>\n",
              "      <td>8</td>\n",
              "      <td>10</td>\n",
              "    </tr>\n",
              "    <tr>\n",
              "      <th>3</th>\n",
              "      <td>GP</td>\n",
              "      <td>F</td>\n",
              "      <td>15</td>\n",
              "      <td>U</td>\n",
              "      <td>GT3</td>\n",
              "      <td>T</td>\n",
              "      <td>4</td>\n",
              "      <td>2</td>\n",
              "      <td>health</td>\n",
              "      <td>services</td>\n",
              "      <td>...</td>\n",
              "      <td>3</td>\n",
              "      <td>2</td>\n",
              "      <td>2</td>\n",
              "      <td>1</td>\n",
              "      <td>1</td>\n",
              "      <td>5</td>\n",
              "      <td>2</td>\n",
              "      <td>15</td>\n",
              "      <td>14</td>\n",
              "      <td>15</td>\n",
              "    </tr>\n",
              "    <tr>\n",
              "      <th>4</th>\n",
              "      <td>GP</td>\n",
              "      <td>F</td>\n",
              "      <td>16</td>\n",
              "      <td>U</td>\n",
              "      <td>GT3</td>\n",
              "      <td>T</td>\n",
              "      <td>3</td>\n",
              "      <td>3</td>\n",
              "      <td>other</td>\n",
              "      <td>other</td>\n",
              "      <td>...</td>\n",
              "      <td>4</td>\n",
              "      <td>3</td>\n",
              "      <td>2</td>\n",
              "      <td>1</td>\n",
              "      <td>2</td>\n",
              "      <td>5</td>\n",
              "      <td>4</td>\n",
              "      <td>6</td>\n",
              "      <td>10</td>\n",
              "      <td>10</td>\n",
              "    </tr>\n",
              "  </tbody>\n",
              "</table>\n",
              "<p>5 rows × 33 columns</p>\n",
              "</div>\n",
              "    <div class=\"colab-df-buttons\">\n",
              "\n",
              "  <div class=\"colab-df-container\">\n",
              "    <button class=\"colab-df-convert\" onclick=\"convertToInteractive('df-132b8bcc-a9fe-43d0-ba2b-37a5a67cf3ce')\"\n",
              "            title=\"Convert this dataframe to an interactive table.\"\n",
              "            style=\"display:none;\">\n",
              "\n",
              "  <svg xmlns=\"http://www.w3.org/2000/svg\" height=\"24px\" viewBox=\"0 -960 960 960\">\n",
              "    <path d=\"M120-120v-720h720v720H120Zm60-500h600v-160H180v160Zm220 220h160v-160H400v160Zm0 220h160v-160H400v160ZM180-400h160v-160H180v160Zm440 0h160v-160H620v160ZM180-180h160v-160H180v160Zm440 0h160v-160H620v160Z\"/>\n",
              "  </svg>\n",
              "    </button>\n",
              "\n",
              "  <style>\n",
              "    .colab-df-container {\n",
              "      display:flex;\n",
              "      gap: 12px;\n",
              "    }\n",
              "\n",
              "    .colab-df-convert {\n",
              "      background-color: #E8F0FE;\n",
              "      border: none;\n",
              "      border-radius: 50%;\n",
              "      cursor: pointer;\n",
              "      display: none;\n",
              "      fill: #1967D2;\n",
              "      height: 32px;\n",
              "      padding: 0 0 0 0;\n",
              "      width: 32px;\n",
              "    }\n",
              "\n",
              "    .colab-df-convert:hover {\n",
              "      background-color: #E2EBFA;\n",
              "      box-shadow: 0px 1px 2px rgba(60, 64, 67, 0.3), 0px 1px 3px 1px rgba(60, 64, 67, 0.15);\n",
              "      fill: #174EA6;\n",
              "    }\n",
              "\n",
              "    .colab-df-buttons div {\n",
              "      margin-bottom: 4px;\n",
              "    }\n",
              "\n",
              "    [theme=dark] .colab-df-convert {\n",
              "      background-color: #3B4455;\n",
              "      fill: #D2E3FC;\n",
              "    }\n",
              "\n",
              "    [theme=dark] .colab-df-convert:hover {\n",
              "      background-color: #434B5C;\n",
              "      box-shadow: 0px 1px 3px 1px rgba(0, 0, 0, 0.15);\n",
              "      filter: drop-shadow(0px 1px 2px rgba(0, 0, 0, 0.3));\n",
              "      fill: #FFFFFF;\n",
              "    }\n",
              "  </style>\n",
              "\n",
              "    <script>\n",
              "      const buttonEl =\n",
              "        document.querySelector('#df-132b8bcc-a9fe-43d0-ba2b-37a5a67cf3ce button.colab-df-convert');\n",
              "      buttonEl.style.display =\n",
              "        google.colab.kernel.accessAllowed ? 'block' : 'none';\n",
              "\n",
              "      async function convertToInteractive(key) {\n",
              "        const element = document.querySelector('#df-132b8bcc-a9fe-43d0-ba2b-37a5a67cf3ce');\n",
              "        const dataTable =\n",
              "          await google.colab.kernel.invokeFunction('convertToInteractive',\n",
              "                                                    [key], {});\n",
              "        if (!dataTable) return;\n",
              "\n",
              "        const docLinkHtml = 'Like what you see? Visit the ' +\n",
              "          '<a target=\"_blank\" href=https://colab.research.google.com/notebooks/data_table.ipynb>data table notebook</a>'\n",
              "          + ' to learn more about interactive tables.';\n",
              "        element.innerHTML = '';\n",
              "        dataTable['output_type'] = 'display_data';\n",
              "        await google.colab.output.renderOutput(dataTable, element);\n",
              "        const docLink = document.createElement('div');\n",
              "        docLink.innerHTML = docLinkHtml;\n",
              "        element.appendChild(docLink);\n",
              "      }\n",
              "    </script>\n",
              "  </div>\n",
              "\n",
              "\n",
              "    <div id=\"df-533ee725-9ff9-4431-a4ce-b24afbb21aae\">\n",
              "      <button class=\"colab-df-quickchart\" onclick=\"quickchart('df-533ee725-9ff9-4431-a4ce-b24afbb21aae')\"\n",
              "                title=\"Suggest charts\"\n",
              "                style=\"display:none;\">\n",
              "\n",
              "<svg xmlns=\"http://www.w3.org/2000/svg\" height=\"24px\"viewBox=\"0 0 24 24\"\n",
              "     width=\"24px\">\n",
              "    <g>\n",
              "        <path d=\"M19 3H5c-1.1 0-2 .9-2 2v14c0 1.1.9 2 2 2h14c1.1 0 2-.9 2-2V5c0-1.1-.9-2-2-2zM9 17H7v-7h2v7zm4 0h-2V7h2v10zm4 0h-2v-4h2v4z\"/>\n",
              "    </g>\n",
              "</svg>\n",
              "      </button>\n",
              "\n",
              "<style>\n",
              "  .colab-df-quickchart {\n",
              "      --bg-color: #E8F0FE;\n",
              "      --fill-color: #1967D2;\n",
              "      --hover-bg-color: #E2EBFA;\n",
              "      --hover-fill-color: #174EA6;\n",
              "      --disabled-fill-color: #AAA;\n",
              "      --disabled-bg-color: #DDD;\n",
              "  }\n",
              "\n",
              "  [theme=dark] .colab-df-quickchart {\n",
              "      --bg-color: #3B4455;\n",
              "      --fill-color: #D2E3FC;\n",
              "      --hover-bg-color: #434B5C;\n",
              "      --hover-fill-color: #FFFFFF;\n",
              "      --disabled-bg-color: #3B4455;\n",
              "      --disabled-fill-color: #666;\n",
              "  }\n",
              "\n",
              "  .colab-df-quickchart {\n",
              "    background-color: var(--bg-color);\n",
              "    border: none;\n",
              "    border-radius: 50%;\n",
              "    cursor: pointer;\n",
              "    display: none;\n",
              "    fill: var(--fill-color);\n",
              "    height: 32px;\n",
              "    padding: 0;\n",
              "    width: 32px;\n",
              "  }\n",
              "\n",
              "  .colab-df-quickchart:hover {\n",
              "    background-color: var(--hover-bg-color);\n",
              "    box-shadow: 0 1px 2px rgba(60, 64, 67, 0.3), 0 1px 3px 1px rgba(60, 64, 67, 0.15);\n",
              "    fill: var(--button-hover-fill-color);\n",
              "  }\n",
              "\n",
              "  .colab-df-quickchart-complete:disabled,\n",
              "  .colab-df-quickchart-complete:disabled:hover {\n",
              "    background-color: var(--disabled-bg-color);\n",
              "    fill: var(--disabled-fill-color);\n",
              "    box-shadow: none;\n",
              "  }\n",
              "\n",
              "  .colab-df-spinner {\n",
              "    border: 2px solid var(--fill-color);\n",
              "    border-color: transparent;\n",
              "    border-bottom-color: var(--fill-color);\n",
              "    animation:\n",
              "      spin 1s steps(1) infinite;\n",
              "  }\n",
              "\n",
              "  @keyframes spin {\n",
              "    0% {\n",
              "      border-color: transparent;\n",
              "      border-bottom-color: var(--fill-color);\n",
              "      border-left-color: var(--fill-color);\n",
              "    }\n",
              "    20% {\n",
              "      border-color: transparent;\n",
              "      border-left-color: var(--fill-color);\n",
              "      border-top-color: var(--fill-color);\n",
              "    }\n",
              "    30% {\n",
              "      border-color: transparent;\n",
              "      border-left-color: var(--fill-color);\n",
              "      border-top-color: var(--fill-color);\n",
              "      border-right-color: var(--fill-color);\n",
              "    }\n",
              "    40% {\n",
              "      border-color: transparent;\n",
              "      border-right-color: var(--fill-color);\n",
              "      border-top-color: var(--fill-color);\n",
              "    }\n",
              "    60% {\n",
              "      border-color: transparent;\n",
              "      border-right-color: var(--fill-color);\n",
              "    }\n",
              "    80% {\n",
              "      border-color: transparent;\n",
              "      border-right-color: var(--fill-color);\n",
              "      border-bottom-color: var(--fill-color);\n",
              "    }\n",
              "    90% {\n",
              "      border-color: transparent;\n",
              "      border-bottom-color: var(--fill-color);\n",
              "    }\n",
              "  }\n",
              "</style>\n",
              "\n",
              "      <script>\n",
              "        async function quickchart(key) {\n",
              "          const quickchartButtonEl =\n",
              "            document.querySelector('#' + key + ' button');\n",
              "          quickchartButtonEl.disabled = true;  // To prevent multiple clicks.\n",
              "          quickchartButtonEl.classList.add('colab-df-spinner');\n",
              "          try {\n",
              "            const charts = await google.colab.kernel.invokeFunction(\n",
              "                'suggestCharts', [key], {});\n",
              "          } catch (error) {\n",
              "            console.error('Error during call to suggestCharts:', error);\n",
              "          }\n",
              "          quickchartButtonEl.classList.remove('colab-df-spinner');\n",
              "          quickchartButtonEl.classList.add('colab-df-quickchart-complete');\n",
              "        }\n",
              "        (() => {\n",
              "          let quickchartButtonEl =\n",
              "            document.querySelector('#df-533ee725-9ff9-4431-a4ce-b24afbb21aae button');\n",
              "          quickchartButtonEl.style.display =\n",
              "            google.colab.kernel.accessAllowed ? 'block' : 'none';\n",
              "        })();\n",
              "      </script>\n",
              "    </div>\n",
              "\n",
              "    </div>\n",
              "  </div>\n"
            ],
            "application/vnd.google.colaboratory.intrinsic+json": {
              "type": "dataframe",
              "variable_name": "df"
            }
          },
          "metadata": {},
          "execution_count": 11
        }
      ]
    },
    {
      "cell_type": "code",
      "source": [
        "df.info()"
      ],
      "metadata": {
        "colab": {
          "base_uri": "https://localhost:8080/"
        },
        "id": "ZRm2XpcDJt1u",
        "outputId": "4887082a-c5f5-4893-ce89-b41ae0a90d3a"
      },
      "execution_count": 27,
      "outputs": [
        {
          "output_type": "stream",
          "name": "stdout",
          "text": [
            "<class 'pandas.core.frame.DataFrame'>\n",
            "RangeIndex: 395 entries, 0 to 394\n",
            "Data columns (total 33 columns):\n",
            " #   Column      Non-Null Count  Dtype \n",
            "---  ------      --------------  ----- \n",
            " 0   school      395 non-null    object\n",
            " 1   sex         395 non-null    object\n",
            " 2   age         395 non-null    int64 \n",
            " 3   address     395 non-null    object\n",
            " 4   famsize     395 non-null    object\n",
            " 5   Pstatus     395 non-null    object\n",
            " 6   Medu        395 non-null    int64 \n",
            " 7   Fedu        395 non-null    int64 \n",
            " 8   Mjob        395 non-null    object\n",
            " 9   Fjob        395 non-null    object\n",
            " 10  reason      395 non-null    object\n",
            " 11  guardian    395 non-null    object\n",
            " 12  traveltime  395 non-null    int64 \n",
            " 13  studytime   395 non-null    int64 \n",
            " 14  failures    395 non-null    int64 \n",
            " 15  schoolsup   395 non-null    object\n",
            " 16  famsup      395 non-null    object\n",
            " 17  paid        395 non-null    object\n",
            " 18  activities  395 non-null    object\n",
            " 19  nursery     395 non-null    object\n",
            " 20  higher      395 non-null    object\n",
            " 21  internet    395 non-null    object\n",
            " 22  romantic    395 non-null    object\n",
            " 23  famrel      395 non-null    int64 \n",
            " 24  freetime    395 non-null    int64 \n",
            " 25  goout       395 non-null    int64 \n",
            " 26  Dalc        395 non-null    int64 \n",
            " 27  Walc        395 non-null    int64 \n",
            " 28  health      395 non-null    int64 \n",
            " 29  absences    395 non-null    int64 \n",
            " 30  G1          395 non-null    int64 \n",
            " 31  G2          395 non-null    int64 \n",
            " 32  G3          395 non-null    int64 \n",
            "dtypes: int64(16), object(17)\n",
            "memory usage: 102.0+ KB\n"
          ]
        }
      ]
    },
    {
      "cell_type": "code",
      "source": [
        "from google.colab import userdata\n",
        "api_key = userdata.get('Free_Llama_Api_Key')"
      ],
      "metadata": {
        "id": "Q9keTq0qHckS"
      },
      "execution_count": 23,
      "outputs": []
    },
    {
      "cell_type": "code",
      "source": [
        "from openai import OpenAI\n",
        "\n",
        "client = OpenAI(\n",
        "  base_url=\"https://openrouter.ai/api/v1\",\n",
        "  api_key=api_key,\n",
        ")\n"
      ],
      "metadata": {
        "id": "P_is6itnHnVM"
      },
      "execution_count": 34,
      "outputs": []
    },
    {
      "cell_type": "code",
      "source": [
        "\n",
        "completion = client.chat.completions.create(\n",
        "  extra_headers={\n",
        "    \"HTTP-Referer\": \"<YOUR_SITE_URL>\", # Optional. Site URL for rankings on openrouter.ai.\n",
        "    \"X-Title\": \"<YOUR_SITE_NAME>\", # Optional. Site title for rankings on openrouter.ai.\n",
        "  },\n",
        "  extra_body={},\n",
        "  model=\"meta-llama/llama-3.3-70b-instruct\",\n",
        "  messages=[\n",
        "    {\n",
        "      \"role\": \"user\",\n",
        "      \"content\": \"What is the meaning of life?\"\n",
        "    }\n",
        "  ]\n",
        ")\n",
        "print(completion.choices[0].message.content)"
      ],
      "metadata": {
        "colab": {
          "base_uri": "https://localhost:8080/"
        },
        "id": "9gfbYwP9IBBJ",
        "outputId": "7bbe7f55-dc5b-48b9-a77f-9255c6fa34ec"
      },
      "execution_count": 31,
      "outputs": [
        {
          "output_type": "stream",
          "name": "stdout",
          "text": [
            "The meaning of life is a philosophical question that has puzzled humans for centuries. It's a question that has sparked intense debate, reflection, and exploration across various disciplines, including philosophy, psychology, science, spirituality, and culture. While there is no one definitive answer, here are some perspectives to consider:\n",
            "\n",
            "1. **Biological perspective**: From a biological standpoint, the meaning of life is to survive and reproduce. This is the fundamental drive of all living organisms, from bacteria to humans. Our instincts, emotions, and behaviors are shaped by this basic imperative.\n",
            "2. **Existentialist perspective**: Existentialist philosophers like Jean-Paul Sartre and Martin Heidegger argue that life has no inherent meaning. Instead, individuals must create their own purpose and meaning through their choices, actions, and experiences.\n",
            "3. **Spiritual or religious perspective**: Many spiritual and religious traditions believe that the meaning of life is to connect with a higher power, follow divine guidance, or fulfill a sacred purpose. This can involve seeking enlightenment, spiritual growth, or a sense of oneness with the universe.\n",
            "4. **Hedonistic perspective**: Some people believe that the meaning of life is to pursue happiness, pleasure, and fulfillment. This can involve seeking enjoyment, satisfaction, and self-actualization through various experiences, relationships, and achievements.\n",
            "5. **Social perspective**: From a social perspective, the meaning of life is often tied to our relationships, community, and contributions to society. This can involve building strong connections with others, working towards the greater good, and leaving a positive legacy.\n",
            "6. **Personal growth perspective**: Many people find meaning in life through personal growth, self-improvement, and self-actualization. This can involve setting goals, developing skills, and pushing oneself to become the best version of oneself.\n",
            "7. **Absurdism**: Absurdist philosophers like Albert Camus and Samuel Beckett suggest that the meaning of life is inherently absurd or unknowable. In this view, we must learn to accept and even find freedom in the uncertainty and ambiguity of life.\n",
            "8. **Evolutionary perspective**: From an evolutionary perspective, the meaning of life is to contribute to the continuation and advancement of the human species. This can involve passing on knowledge, skills, and values to future generations.\n",
            "9. **Cosmological perspective**: Some people believe that the meaning of life is tied to our place in the universe and the cosmos. This can involve exploring the mysteries of the universe, understanding our role in the grand scheme, and finding our place within the larger web of existence.\n",
            "10. **Subjective perspective**: Ultimately, the meaning of life is a deeply personal and subjective experience. It can vary greatly from person to person, and may involve a unique combination of the above perspectives or something entirely different.\n",
            "\n",
            "In conclusion, the meaning of life is a complex, multifaceted, and highly individualized concept that can be approached from various angles. While there is no one \"right\" answer, exploring these different perspectives can help us gain a deeper understanding of ourselves and the world around us.\n"
          ]
        }
      ]
    },
    {
      "cell_type": "code",
      "source": [
        "from langchain_openai import ChatOpenAI\n",
        "\n",
        "llm = ChatOpenAI(\n",
        "    model=\"meta-llama/llama-3.3-70b-instruct\",\n",
        "    openai_api_key=api_key,\n",
        "    openai_api_base=\"https://openrouter.ai/api/v1\"\n",
        ")\n"
      ],
      "metadata": {
        "id": "QRCcYSQtKYM-"
      },
      "execution_count": 37,
      "outputs": []
    },
    {
      "cell_type": "code",
      "source": [
        "agent = create_pandas_dataframe_agent(\n",
        "    llm,\n",
        "    df,\n",
        "    verbose=True,\n",
        "    return_intermediate_steps=True,\n",
        "    allow_dangerous_code=True,\n",
        "    handle_parsing_errors=True\n",
        "    )"
      ],
      "metadata": {
        "colab": {
          "base_uri": "https://localhost:8080/"
        },
        "id": "mMaUwuTbLyU0",
        "outputId": "f057315c-484e-4eff-8b2c-a419660acf0e"
      },
      "execution_count": 57,
      "outputs": [
        {
          "output_type": "stream",
          "name": "stderr",
          "text": [
            "/usr/local/lib/python3.12/dist-packages/langchain_experimental/agents/agent_toolkits/pandas/base.py:283: UserWarning: Received additional kwargs {'handle_parsing_errors': True} which are no longer supported.\n",
            "  warnings.warn(\n"
          ]
        }
      ]
    },
    {
      "cell_type": "code",
      "source": [
        "response = agent.invoke(\"How many rows are in this dataframe\")"
      ],
      "metadata": {
        "colab": {
          "base_uri": "https://localhost:8080/"
        },
        "id": "gMbSDSeRMEqI",
        "outputId": "83815b09-0d15-4692-8198-c5edd6297b6c"
      },
      "execution_count": 40,
      "outputs": [
        {
          "output_type": "stream",
          "name": "stdout",
          "text": [
            "\n",
            "\n",
            "\u001b[1m> Entering new AgentExecutor chain...\u001b[0m\n",
            "\u001b[32;1m\u001b[1;3mThought: The number of rows in a pandas DataFrame can be obtained using the `len()` function or the `shape` attribute. I will use the `shape` attribute to get the number of rows.\n",
            "\n",
            "Action: python_repl_ast\n",
            "Action Input: `print(df.shape[0])`\u001b[0m\u001b[36;1m\u001b[1;3m395\n",
            "\u001b[0m\u001b[32;1m\u001b[1;3mI now know the final answer\n",
            "\n",
            "Final Answer: There are 395 rows in this dataframe.\u001b[0m\n",
            "\n",
            "\u001b[1m> Finished chain.\u001b[0m\n"
          ]
        }
      ]
    },
    {
      "cell_type": "code",
      "source": [
        "response['output']"
      ],
      "metadata": {
        "colab": {
          "base_uri": "https://localhost:8080/",
          "height": 35
        },
        "id": "yE1GA9ANMgQo",
        "outputId": "be878398-f311-4973-f1eb-3a2a4119c355"
      },
      "execution_count": 41,
      "outputs": [
        {
          "output_type": "execute_result",
          "data": {
            "text/plain": [
              "'There are 395 rows in this dataframe.'"
            ],
            "application/vnd.google.colaboratory.intrinsic+json": {
              "type": "string"
            }
          },
          "metadata": {},
          "execution_count": 41
        }
      ]
    },
    {
      "cell_type": "code",
      "source": [
        "len(df)"
      ],
      "metadata": {
        "colab": {
          "base_uri": "https://localhost:8080/"
        },
        "id": "E18wMr45MktW",
        "outputId": "e0cfa6c3-6418-417a-8b3d-f90ba87c8131"
      },
      "execution_count": 42,
      "outputs": [
        {
          "output_type": "execute_result",
          "data": {
            "text/plain": [
              "395"
            ]
          },
          "metadata": {},
          "execution_count": 42
        }
      ]
    },
    {
      "cell_type": "code",
      "source": [
        "response['intermediate_steps'][-1][0].tool_input.replace('; ', '\\n')"
      ],
      "metadata": {
        "colab": {
          "base_uri": "https://localhost:8080/",
          "height": 35
        },
        "id": "tsqkf_5AMlWP",
        "outputId": "71b71e46-5e4b-47e8-e8cf-29c10bf8e738"
      },
      "execution_count": 43,
      "outputs": [
        {
          "output_type": "execute_result",
          "data": {
            "text/plain": [
              "'`print(df.shape[0])`'"
            ],
            "application/vnd.google.colaboratory.intrinsic+json": {
              "type": "string"
            }
          },
          "metadata": {},
          "execution_count": 43
        }
      ]
    },
    {
      "cell_type": "code",
      "source": [
        "response = agent.invoke(\"Give me all the data where student's age is over 18 years old.\")"
      ],
      "metadata": {
        "colab": {
          "base_uri": "https://localhost:8080/"
        },
        "id": "ObYOa24NMpH1",
        "outputId": "3895dfeb-1acb-4ab8-a250-5aa2d0e7d886"
      },
      "execution_count": 44,
      "outputs": [
        {
          "output_type": "stream",
          "name": "stdout",
          "text": [
            "\n",
            "\n",
            "\u001b[1m> Entering new AgentExecutor chain...\u001b[0m\n",
            "\u001b[32;1m\u001b[1;3mThought: To get the data where the student's age is over 18 years old, I need to filter the dataframe based on the 'age' column.\n",
            "\n",
            "Action: python_repl_ast\n",
            "Action Input: \n",
            "```python\n",
            "print(df[df['age'] > 18])\n",
            "```\u001b[0m\u001b[36;1m\u001b[1;3m    school sex  age address famsize Pstatus  Medu  Fedu      Mjob      Fjob  \\\n",
            "127     GP   F   19       U     GT3       T     0     1   at_home     other   \n",
            "153     GP   M   19       U     GT3       T     3     2  services   at_home   \n",
            "210     GP   F   19       U     GT3       T     3     3     other     other   \n",
            "247     GP   M   22       U     GT3       T     3     1  services  services   \n",
            "257     GP   M   19       U     LE3       A     4     3  services   at_home   \n",
            "270     GP   F   19       U     GT3       T     3     3     other  services   \n",
            "296     GP   F   19       U     GT3       T     4     4    health     other   \n",
            "304     GP   M   19       U     GT3       T     3     3     other     other   \n",
            "306     GP   M   20       U     GT3       A     3     2  services     other   \n",
            "307     GP   M   19       U     GT3       T     4     4   teacher  services   \n",
            "308     GP   M   19       R     GT3       T     3     3     other  services   \n",
            "309     GP   F   19       U     LE3       T     1     1   at_home     other   \n",
            "310     GP   F   19       U     LE3       T     1     2  services  services   \n",
            "311     GP   F   19       U     GT3       T     2     1   at_home     other   \n",
            "312     GP   M   19       U     GT3       T     1     2     other  services   \n",
            "313     GP   F   19       U     LE3       T     3     2  services     other   \n",
            "314     GP   F   19       U     GT3       T     1     1   at_home    health   \n",
            "315     GP   F   19       R     GT3       T     2     3     other     other   \n",
            "336     GP   F   19       R     GT3       A     3     1  services   at_home   \n",
            "340     GP   F   19       U     GT3       T     2     1  services  services   \n",
            "350     MS   M   19       R     GT3       T     1     1     other  services   \n",
            "353     MS   M   19       R     GT3       T     1     1     other     other   \n",
            "370     MS   F   19       U     LE3       T     3     2  services  services   \n",
            "376     MS   F   20       U     GT3       T     4     2    health     other   \n",
            "383     MS   M   19       R     GT3       T     1     1     other  services   \n",
            "387     MS   F   19       R     GT3       T     2     3  services     other   \n",
            "390     MS   M   20       U     LE3       A     2     2  services  services   \n",
            "392     MS   M   21       R     GT3       T     1     1     other     other   \n",
            "394     MS   M   19       U     LE3       T     1     1     other   at_home   \n",
            "\n",
            "         reason guardian  traveltime  studytime  failures schoolsup famsup  \\\n",
            "127      course    other           1          2         3        no    yes   \n",
            "153        home   mother           1          1         3        no    yes   \n",
            "210  reputation    other           1          4         0        no    yes   \n",
            "247       other   mother           1          1         3        no     no   \n",
            "257  reputation   mother           1          2         0        no    yes   \n",
            "270        home    other           1          2         2        no    yes   \n",
            "296  reputation    other           2          2         0        no    yes   \n",
            "304        home    other           1          2         1        no    yes   \n",
            "306      course    other           1          1         0        no     no   \n",
            "307  reputation    other           2          1         1        no    yes   \n",
            "308  reputation   father           1          2         1        no     no   \n",
            "309  reputation    other           1          2         1       yes    yes   \n",
            "310        home    other           1          2         1        no     no   \n",
            "311       other    other           3          2         0        no    yes   \n",
            "312      course    other           1          2         1        no     no   \n",
            "313  reputation    other           2          2         1        no    yes   \n",
            "314        home    other           1          3         2        no     no   \n",
            "315  reputation    other           1          3         1        no     no   \n",
            "336        home    other           1          3         1        no     no   \n",
            "340        home    other           1          3         1        no     no   \n",
            "350        home    other           3          2         3        no     no   \n",
            "353        home    other           3          1         1        no    yes   \n",
            "370        home    other           2          2         2        no     no   \n",
            "376      course    other           2          3         2        no    yes   \n",
            "383       other   mother           2          1         1        no     no   \n",
            "387      course   mother           1          3         1        no     no   \n",
            "390      course    other           1          2         2        no    yes   \n",
            "392      course    other           1          1         3        no     no   \n",
            "394      course   father           1          1         0        no     no   \n",
            "\n",
            "    paid activities nursery higher internet romantic  famrel  freetime  goout  \\\n",
            "127   no         no      no     no       no       no       3         4      2   \n",
            "153   no         no     yes     no      yes      yes       4         5      4   \n",
            "210  yes        yes     yes    yes      yes       no       4         3      3   \n",
            "247   no         no      no     no      yes      yes       5         4      5   \n",
            "257   no         no     yes    yes      yes       no       4         3      1   \n",
            "270  yes        yes     yes    yes      yes       no       4         3      5   \n",
            "296  yes        yes     yes    yes      yes       no       2         3      4   \n",
            "304   no        yes     yes    yes      yes      yes       4         4      4   \n",
            "306   no        yes     yes    yes       no       no       5         5      3   \n",
            "307  yes         no     yes    yes      yes      yes       4         3      4   \n",
            "308   no        yes     yes    yes       no      yes       4         5      3   \n",
            "309   no        yes      no    yes      yes       no       4         4      3   \n",
            "310   no        yes      no    yes       no      yes       4         2      4   \n",
            "311   no         no     yes     no      yes      yes       3         4      1   \n",
            "312   no         no      no    yes      yes       no       4         5      2   \n",
            "313  yes         no      no    yes      yes      yes       4         2      2   \n",
            "314   no         no      no    yes      yes      yes       4         1      2   \n",
            "315   no         no     yes    yes      yes      yes       4         1      2   \n",
            "336  yes         no     yes    yes       no       no       5         4      3   \n",
            "340  yes        yes     yes    yes      yes      yes       4         3      4   \n",
            "350   no         no     yes    yes      yes       no       5         4      4   \n",
            "353   no         no     yes    yes      yes       no       4         4      4   \n",
            "370   no        yes     yes    yes       no      yes       3         2      2   \n",
            "376  yes         no      no    yes      yes      yes       5         4      3   \n",
            "383   no         no     yes    yes       no       no       4         3      2   \n",
            "387   no        yes      no    yes      yes       no       5         4      2   \n",
            "390  yes         no     yes    yes       no       no       5         5      4   \n",
            "392   no         no      no    yes       no       no       5         5      3   \n",
            "394   no         no     yes    yes      yes       no       3         2      3   \n",
            "\n",
            "     Dalc  Walc  health  absences  G1  G2  G3  \n",
            "127     1     1       5         2   7   8   9  \n",
            "153     1     1       4         0   5   0   0  \n",
            "210     1     2       3        10   8   8   8  \n",
            "247     5     5       1        16   6   8   8  \n",
            "257     1     1       1        12  11  11  11  \n",
            "270     3     3       5        15   9   9   9  \n",
            "296     2     3       2         0  10   9   0  \n",
            "304     1     1       3        20  15  14  13  \n",
            "306     1     1       5         0  17  18  18  \n",
            "307     1     1       4        38   8   9   8  \n",
            "308     1     2       5         0  15  12  12  \n",
            "309     1     3       3        18  12  10  10  \n",
            "310     2     2       3         0   9   9   0  \n",
            "311     1     1       2        20  14  12  13  \n",
            "312     2     2       4         3  13  11  11  \n",
            "313     1     2       1        22  13  10  11  \n",
            "314     1     1       3        14  15  13  13  \n",
            "315     1     1       3        40  13  11  11  \n",
            "336     1     2       5        12  14  13  13  \n",
            "340     1     3       3         4  11  12  11  \n",
            "350     3     3       2         8   8   7   8  \n",
            "353     3     3       5         4   8   8   8  \n",
            "370     1     1       3         4   7   7   9  \n",
            "376     1     1       3         4  15  14  15  \n",
            "383     1     3       5         0   6   5   0  \n",
            "387     1     2       5         0   7   5   0  \n",
            "390     4     5       4        11   9   9   9  \n",
            "392     3     3       3         3  10   8   7  \n",
            "394     3     3       5         5   8   9   9  \n",
            "\u001b[0m\u001b[32;1m\u001b[1;3mThought: I now know the final answer\n",
            "\n",
            "Final Answer: The data where the student's age is over 18 years old is:\n",
            "\n",
            "     school sex  age address famsize Pstatus  Medu  Fedu      Mjob      Fjob  \\\n",
            "127     GP   F   19       U     GT3       T     0     1   at_home     other   \n",
            "153     GP   M   19       U     GT3       T     3     2  services   at_home   \n",
            "210     GP   F   19       U     GT3       T     3     3     other     other   \n",
            "247     GP   M   22       U     GT3       T     3     1  services  services   \n",
            "257     GP   M   19       U     LE3       A     4     3  services   at_home   \n",
            "270     GP   F   19       U     GT3       T     3     3     other  services   \n",
            "296     GP   F   19       U     GT3       T     4     4    health     other   \n",
            "304     GP   M   19       U     GT3       T     3     3     other     other   \n",
            "306     GP   M   20       U     GT3       A     3     2  services     other   \n",
            "307     GP   M   19       U     GT3       T     4     4   teacher  services   \n",
            "308     GP   M   19       R     GT3       T     3     3     other  services   \n",
            "309     GP   F   19       U     LE3       T     1     1   at_home     other   \n",
            "310     GP   F   19       U     LE3       T     1     2  services  services   \n",
            "311     GP   F   19       U     GT3       T     2     1   at_home     other   \n",
            "312     GP   M   19       U     GT3       T     1     2     other  services   \n",
            "313     GP   F   19       U     LE3       T     3     2  services     other   \n",
            "314     GP   F   19       U     GT3       T     1     1   at_home    health   \n",
            "315     GP   F   19       R     GT3       T     2     3     other     other   \n",
            "336     GP   F   19       R     GT3       A     3     1  services   at_home   \n",
            "340     GP   F   19       U     GT3       T     2     1  services  services   \n",
            "350     MS   M   19       R     GT3       T     1     1     other  services   \n",
            "353     MS   M   19       R     GT3       T     1     1     other     other   \n",
            "370     MS   F   19       U     LE3       T     3     2  services  services   \n",
            "376     MS   F   20       U     GT3       T     4     2    health     other   \n",
            "383     MS   M   19       R     GT3       T     1     1     other  services   \n",
            "387     MS   F   19       R     GT3       T     2     3  services     other   \n",
            "390     MS   M   20       U     LE3       A     2     2  services  services   \n",
            "392     MS   M   21       R     GT3       T     1     1     other     other   \n",
            "394     MS   M   19       U     LE3       T     1     1     other   at_home   \n",
            "\n",
            "... (rest of the data) \n",
            "\n",
            "This is the data where the student's age is over 18 years old.\u001b[0m\n",
            "\n",
            "\u001b[1m> Finished chain.\u001b[0m\n"
          ]
        }
      ]
    },
    {
      "cell_type": "code",
      "source": [
        "print(response)"
      ],
      "metadata": {
        "colab": {
          "base_uri": "https://localhost:8080/"
        },
        "id": "E3kM7U-cMuRO",
        "outputId": "3a843acd-da4c-49f6-ad57-6f6d02b63928"
      },
      "execution_count": 45,
      "outputs": [
        {
          "output_type": "stream",
          "name": "stdout",
          "text": [
            "{'input': \"Give me all the data where student's age is over 18 years old.\", 'output': \"The data where the student's age is over 18 years old is:\\n\\n     school sex  age address famsize Pstatus  Medu  Fedu      Mjob      Fjob  \\\\\\n127     GP   F   19       U     GT3       T     0     1   at_home     other   \\n153     GP   M   19       U     GT3       T     3     2  services   at_home   \\n210     GP   F   19       U     GT3       T     3     3     other     other   \\n247     GP   M   22       U     GT3       T     3     1  services  services   \\n257     GP   M   19       U     LE3       A     4     3  services   at_home   \\n270     GP   F   19       U     GT3       T     3     3     other  services   \\n296     GP   F   19       U     GT3       T     4     4    health     other   \\n304     GP   M   19       U     GT3       T     3     3     other     other   \\n306     GP   M   20       U     GT3       A     3     2  services     other   \\n307     GP   M   19       U     GT3       T     4     4   teacher  services   \\n308     GP   M   19       R     GT3       T     3     3     other  services   \\n309     GP   F   19       U     LE3       T     1     1   at_home     other   \\n310     GP   F   19       U     LE3       T     1     2  services  services   \\n311     GP   F   19       U     GT3       T     2     1   at_home     other   \\n312     GP   M   19       U     GT3       T     1     2     other  services   \\n313     GP   F   19       U     LE3       T     3     2  services     other   \\n314     GP   F   19       U     GT3       T     1     1   at_home    health   \\n315     GP   F   19       R     GT3       T     2     3     other     other   \\n336     GP   F   19       R     GT3       A     3     1  services   at_home   \\n340     GP   F   19       U     GT3       T     2     1  services  services   \\n350     MS   M   19       R     GT3       T     1     1     other  services   \\n353     MS   M   19       R     GT3       T     1     1     other     other   \\n370     MS   F   19       U     LE3       T     3     2  services  services   \\n376     MS   F   20       U     GT3       T     4     2    health     other   \\n383     MS   M   19       R     GT3       T     1     1     other  services   \\n387     MS   F   19       R     GT3       T     2     3  services     other   \\n390     MS   M   20       U     LE3       A     2     2  services  services   \\n392     MS   M   21       R     GT3       T     1     1     other     other   \\n394     MS   M   19       U     LE3       T     1     1     other   at_home   \\n\\n... (rest of the data) \\n\\nThis is the data where the student's age is over 18 years old.\", 'intermediate_steps': [(AgentAction(tool='python_repl_ast', tool_input=\"```python\\nprint(df[df['age'] > 18])\\n```\", log=\"Thought: To get the data where the student's age is over 18 years old, I need to filter the dataframe based on the 'age' column.\\n\\nAction: python_repl_ast\\nAction Input: \\n```python\\nprint(df[df['age'] > 18])\\n```\"), '    school sex  age address famsize Pstatus  Medu  Fedu      Mjob      Fjob  \\\\\\n127     GP   F   19       U     GT3       T     0     1   at_home     other   \\n153     GP   M   19       U     GT3       T     3     2  services   at_home   \\n210     GP   F   19       U     GT3       T     3     3     other     other   \\n247     GP   M   22       U     GT3       T     3     1  services  services   \\n257     GP   M   19       U     LE3       A     4     3  services   at_home   \\n270     GP   F   19       U     GT3       T     3     3     other  services   \\n296     GP   F   19       U     GT3       T     4     4    health     other   \\n304     GP   M   19       U     GT3       T     3     3     other     other   \\n306     GP   M   20       U     GT3       A     3     2  services     other   \\n307     GP   M   19       U     GT3       T     4     4   teacher  services   \\n308     GP   M   19       R     GT3       T     3     3     other  services   \\n309     GP   F   19       U     LE3       T     1     1   at_home     other   \\n310     GP   F   19       U     LE3       T     1     2  services  services   \\n311     GP   F   19       U     GT3       T     2     1   at_home     other   \\n312     GP   M   19       U     GT3       T     1     2     other  services   \\n313     GP   F   19       U     LE3       T     3     2  services     other   \\n314     GP   F   19       U     GT3       T     1     1   at_home    health   \\n315     GP   F   19       R     GT3       T     2     3     other     other   \\n336     GP   F   19       R     GT3       A     3     1  services   at_home   \\n340     GP   F   19       U     GT3       T     2     1  services  services   \\n350     MS   M   19       R     GT3       T     1     1     other  services   \\n353     MS   M   19       R     GT3       T     1     1     other     other   \\n370     MS   F   19       U     LE3       T     3     2  services  services   \\n376     MS   F   20       U     GT3       T     4     2    health     other   \\n383     MS   M   19       R     GT3       T     1     1     other  services   \\n387     MS   F   19       R     GT3       T     2     3  services     other   \\n390     MS   M   20       U     LE3       A     2     2  services  services   \\n392     MS   M   21       R     GT3       T     1     1     other     other   \\n394     MS   M   19       U     LE3       T     1     1     other   at_home   \\n\\n         reason guardian  traveltime  studytime  failures schoolsup famsup  \\\\\\n127      course    other           1          2         3        no    yes   \\n153        home   mother           1          1         3        no    yes   \\n210  reputation    other           1          4         0        no    yes   \\n247       other   mother           1          1         3        no     no   \\n257  reputation   mother           1          2         0        no    yes   \\n270        home    other           1          2         2        no    yes   \\n296  reputation    other           2          2         0        no    yes   \\n304        home    other           1          2         1        no    yes   \\n306      course    other           1          1         0        no     no   \\n307  reputation    other           2          1         1        no    yes   \\n308  reputation   father           1          2         1        no     no   \\n309  reputation    other           1          2         1       yes    yes   \\n310        home    other           1          2         1        no     no   \\n311       other    other           3          2         0        no    yes   \\n312      course    other           1          2         1        no     no   \\n313  reputation    other           2          2         1        no    yes   \\n314        home    other           1          3         2        no     no   \\n315  reputation    other           1          3         1        no     no   \\n336        home    other           1          3         1        no     no   \\n340        home    other           1          3         1        no     no   \\n350        home    other           3          2         3        no     no   \\n353        home    other           3          1         1        no    yes   \\n370        home    other           2          2         2        no     no   \\n376      course    other           2          3         2        no    yes   \\n383       other   mother           2          1         1        no     no   \\n387      course   mother           1          3         1        no     no   \\n390      course    other           1          2         2        no    yes   \\n392      course    other           1          1         3        no     no   \\n394      course   father           1          1         0        no     no   \\n\\n    paid activities nursery higher internet romantic  famrel  freetime  goout  \\\\\\n127   no         no      no     no       no       no       3         4      2   \\n153   no         no     yes     no      yes      yes       4         5      4   \\n210  yes        yes     yes    yes      yes       no       4         3      3   \\n247   no         no      no     no      yes      yes       5         4      5   \\n257   no         no     yes    yes      yes       no       4         3      1   \\n270  yes        yes     yes    yes      yes       no       4         3      5   \\n296  yes        yes     yes    yes      yes       no       2         3      4   \\n304   no        yes     yes    yes      yes      yes       4         4      4   \\n306   no        yes     yes    yes       no       no       5         5      3   \\n307  yes         no     yes    yes      yes      yes       4         3      4   \\n308   no        yes     yes    yes       no      yes       4         5      3   \\n309   no        yes      no    yes      yes       no       4         4      3   \\n310   no        yes      no    yes       no      yes       4         2      4   \\n311   no         no     yes     no      yes      yes       3         4      1   \\n312   no         no      no    yes      yes       no       4         5      2   \\n313  yes         no      no    yes      yes      yes       4         2      2   \\n314   no         no      no    yes      yes      yes       4         1      2   \\n315   no         no     yes    yes      yes      yes       4         1      2   \\n336  yes         no     yes    yes       no       no       5         4      3   \\n340  yes        yes     yes    yes      yes      yes       4         3      4   \\n350   no         no     yes    yes      yes       no       5         4      4   \\n353   no         no     yes    yes      yes       no       4         4      4   \\n370   no        yes     yes    yes       no      yes       3         2      2   \\n376  yes         no      no    yes      yes      yes       5         4      3   \\n383   no         no     yes    yes       no       no       4         3      2   \\n387   no        yes      no    yes      yes       no       5         4      2   \\n390  yes         no     yes    yes       no       no       5         5      4   \\n392   no         no      no    yes       no       no       5         5      3   \\n394   no         no     yes    yes      yes       no       3         2      3   \\n\\n     Dalc  Walc  health  absences  G1  G2  G3  \\n127     1     1       5         2   7   8   9  \\n153     1     1       4         0   5   0   0  \\n210     1     2       3        10   8   8   8  \\n247     5     5       1        16   6   8   8  \\n257     1     1       1        12  11  11  11  \\n270     3     3       5        15   9   9   9  \\n296     2     3       2         0  10   9   0  \\n304     1     1       3        20  15  14  13  \\n306     1     1       5         0  17  18  18  \\n307     1     1       4        38   8   9   8  \\n308     1     2       5         0  15  12  12  \\n309     1     3       3        18  12  10  10  \\n310     2     2       3         0   9   9   0  \\n311     1     1       2        20  14  12  13  \\n312     2     2       4         3  13  11  11  \\n313     1     2       1        22  13  10  11  \\n314     1     1       3        14  15  13  13  \\n315     1     1       3        40  13  11  11  \\n336     1     2       5        12  14  13  13  \\n340     1     3       3         4  11  12  11  \\n350     3     3       2         8   8   7   8  \\n353     3     3       5         4   8   8   8  \\n370     1     1       3         4   7   7   9  \\n376     1     1       3         4  15  14  15  \\n383     1     3       5         0   6   5   0  \\n387     1     2       5         0   7   5   0  \\n390     4     5       4        11   9   9   9  \\n392     3     3       3         3  10   8   7  \\n394     3     3       5         5   8   9   9  \\n')]}\n"
          ]
        }
      ]
    },
    {
      "cell_type": "code",
      "source": [
        "response['intermediate_steps'][-1][0].tool_input.replace('; ', '\\n')"
      ],
      "metadata": {
        "colab": {
          "base_uri": "https://localhost:8080/",
          "height": 35
        },
        "id": "1XUglgnBM3fS",
        "outputId": "b7fd1dcb-1cc0-404f-fb67-ccdddee8daac"
      },
      "execution_count": 46,
      "outputs": [
        {
          "output_type": "execute_result",
          "data": {
            "text/plain": [
              "\"```python\\nprint(df[df['age'] > 18])\\n```\""
            ],
            "application/vnd.google.colaboratory.intrinsic+json": {
              "type": "string"
            }
          },
          "metadata": {},
          "execution_count": 46
        }
      ]
    },
    {
      "cell_type": "code",
      "source": [
        "response=agent.invoke(\"plot the gender count with bars\")"
      ],
      "metadata": {
        "colab": {
          "base_uri": "https://localhost:8080/",
          "height": 1000
        },
        "id": "I5aHvyEkM77k",
        "outputId": "097aaab1-4c42-44b4-80c6-6018fa71bedc"
      },
      "execution_count": 47,
      "outputs": [
        {
          "output_type": "stream",
          "name": "stdout",
          "text": [
            "\n",
            "\n",
            "\u001b[1m> Entering new AgentExecutor chain...\u001b[0m\n",
            "\u001b[32;1m\u001b[1;3mThought: To plot the gender count with bars, we need to first count the number of males and females in the 'sex' column of the dataframe. Then, we can use matplotlib to create a bar plot.\n",
            "\n",
            "Action: python_repl_ast\n",
            "Action Input:\n",
            "```python\n",
            "import matplotlib.pyplot as plt\n",
            "print(df['sex'].value_counts())\n",
            "```\u001b[0m\u001b[36;1m\u001b[1;3msex\n",
            "F    208\n",
            "M    187\n",
            "Name: count, dtype: int64\n",
            "\u001b[0m\u001b[32;1m\u001b[1;3mNow that we have the counts, we can proceed to create the bar plot using matplotlib.\n",
            "\n",
            "Action: python_repl_ast\n",
            "Action Input:\n",
            "```python\n",
            "import matplotlib.pyplot as plt\n",
            "df['sex'].value_counts().plot(kind='bar')\n",
            "plt.title('Gender Count')\n",
            "plt.xlabel('Gender')\n",
            "plt.ylabel('Count')\n",
            "plt.show()\n",
            "```\u001b[0m"
          ]
        },
        {
          "output_type": "display_data",
          "data": {
            "text/plain": [
              "<Figure size 640x480 with 1 Axes>"
            ],
            "image/png": "[encoded data removed]"
          },
          "metadata": {}
        },
        {
          "output_type": "stream",
          "name": "stdout",
          "text": [
            "\u001b[36;1m\u001b[1;3m\u001b[0m\u001b[32;1m\u001b[1;3mI now know the final answer\n",
            "\n",
            "Final Answer: The gender count is plotted with bars, showing that there are 208 females and 187 males in the dataset. The plot has a title 'Gender Count', x-axis label 'Gender', and y-axis label 'Count'.\u001b[0m\n",
            "\n",
            "\u001b[1m> Finished chain.\u001b[0m\n"
          ]
        }
      ]
    },
    {
      "cell_type": "code",
      "source": [
        "print(response['intermediate_steps'][-1][0].tool_input.replace('; ', '\\n'))"
      ],
      "metadata": {
        "colab": {
          "base_uri": "https://localhost:8080/"
        },
        "id": "Zr2uAsjmNZC9",
        "outputId": "8f565594-ff39-444c-99b3-0f04029b5833"
      },
      "execution_count": 48,
      "outputs": [
        {
          "output_type": "stream",
          "name": "stdout",
          "text": [
            "```python\n",
            "import matplotlib.pyplot as plt\n",
            "df['sex'].value_counts().plot(kind='bar')\n",
            "plt.title('Gender Count')\n",
            "plt.xlabel('Gender')\n",
            "plt.ylabel('Count')\n",
            "plt.show()\n",
            "```\n"
          ]
        }
      ]
    },
    {
      "cell_type": "code",
      "source": [
        "import matplotlib.pyplot as plt\n",
        "df['sex'].value_counts().plot(kind='bar')\n",
        "plt.title('Gender Count')\n",
        "plt.xlabel('Gender')\n",
        "plt.ylabel('Count')\n",
        "plt.show()"
      ],
      "metadata": {
        "colab": {
          "base_uri": "https://localhost:8080/",
          "height": 470
        },
        "id": "lzpEEE9qNcVS",
        "outputId": "4b37515e-8eaa-442a-f154-b85b55f5adb0"
      },
      "execution_count": 49,
      "outputs": [
        {
          "output_type": "display_data",
          "data": {
            "text/plain": [
              "<Figure size 640x480 with 1 Axes>"
            ],
            "image/png": "[encoded data removed]"
          },
          "metadata": {}
        }
      ]
    },
    {
      "cell_type": "code",
      "source": [
        "response = agent.invoke(\"Generate a pie chart to display average value of Walc for each Gender.\")"
      ],
      "metadata": {
        "colab": {
          "base_uri": "https://localhost:8080/",
          "height": 1000
        },
        "id": "sh1a0mglNgwa",
        "outputId": "2374537c-335f-4953-b4b4-22f76451ecbb"
      },
      "execution_count": 50,
      "outputs": [
        {
          "output_type": "stream",
          "name": "stdout",
          "text": [
            "\n",
            "\n",
            "\u001b[1m> Entering new AgentExecutor chain...\u001b[0m\n",
            "\u001b[32;1m\u001b[1;3mThought: To generate a pie chart to display the average value of Walc for each gender, we first need to calculate the average Walc for each gender. Then, we can use a library like matplotlib to create the pie chart.\n",
            "\n",
            "Action: python_repl_ast\n",
            "Action Input:\n",
            "```python\n",
            "import matplotlib.pyplot as plt\n",
            "average_walc = df.groupby('sex')['Walc'].mean()\n",
            "print(average_walc)\n",
            "```\u001b[0m\u001b[36;1m\u001b[1;3msex\n",
            "F    1.956731\n",
            "M    2.663102\n",
            "Name: Walc, dtype: float64\n",
            "\u001b[0m"
          ]
        },
        {
          "output_type": "display_data",
          "data": {
            "text/plain": [
              "<Figure size 800x600 with 1 Axes>"
            ],
            "image/png": "[encoded data removed]"
          },
          "metadata": {}
        },
        {
          "output_type": "stream",
          "name": "stdout",
          "text": [
            "\u001b[32;1m\u001b[1;3mNow that we have the average Walc values for each gender, we can proceed to create the pie chart using matplotlib.\n",
            "\n",
            "Action: python_repl_ast\n",
            "Action Input:\n",
            "```python\n",
            "import matplotlib.pyplot as plt\n",
            "average_walc = df.groupby('sex')['Walc'].mean()\n",
            "plt.figure(figsize=(8, 6))\n",
            "plt.pie(average_walc, labels = average_walc.index, autopct='%1.1f%%')\n",
            "plt.title('Average Walc by Gender')\n",
            "plt.show()\n",
            "```\u001b[0m\u001b[36;1m\u001b[1;3m\u001b[0m\u001b[32;1m\u001b[1;3mI now know the final answer\n",
            "\n",
            "Final Answer: \n",
            "The average Walc value for females is 1.956731 and for males is 2.663102. \n",
            "\n",
            "A pie chart with these values can be generated by running the following code:\n",
            "```python\n",
            "import matplotlib.pyplot as plt\n",
            "average_walc = df.groupby('sex')['Walc'].mean()\n",
            "plt.figure(figsize=(8, 6))\n",
            "plt.pie(average_walc, labels = average_walc.index, autopct='%1.1f%%')\n",
            "plt.title('Average Walc by Gender')\n",
            "plt.show()\n",
            "```\u001b[0m\n",
            "\n",
            "\u001b[1m> Finished chain.\u001b[0m\n"
          ]
        }
      ]
    },
    {
      "cell_type": "code",
      "source": [
        "print(response['intermediate_steps'][-1][0].tool_input.replace('; ', '\\n'))"
      ],
      "metadata": {
        "colab": {
          "base_uri": "https://localhost:8080/"
        },
        "id": "qkYubk01NhKS",
        "outputId": "53dd0516-59e5-489b-86dc-5e0eeb718bd6"
      },
      "execution_count": 51,
      "outputs": [
        {
          "output_type": "stream",
          "name": "stdout",
          "text": [
            "```python\n",
            "import matplotlib.pyplot as plt\n",
            "average_walc = df.groupby('sex')['Walc'].mean()\n",
            "plt.figure(figsize=(8, 6))\n",
            "plt.pie(average_walc, labels = average_walc.index, autopct='%1.1f%%')\n",
            "plt.title('Average Walc by Gender')\n",
            "plt.show()\n",
            "```\n"
          ]
        }
      ]
    },
    {
      "cell_type": "code",
      "source": [
        "response = agent.invoke(\"Create box plots to analyze the relationship between 'freetime' (amount of free time) and 'G3' (final grade) across different levels of free time.\")"
      ],
      "metadata": {
        "colab": {
          "base_uri": "https://localhost:8080/",
          "height": 1000
        },
        "id": "_hQd9k2ZNi0E",
        "outputId": "19591c80-43df-4a20-8a66-2c78893c3efb"
      },
      "execution_count": 52,
      "outputs": [
        {
          "output_type": "stream",
          "name": "stdout",
          "text": [
            "\n",
            "\n",
            "\u001b[1m> Entering new AgentExecutor chain...\u001b[0m\n",
            "\u001b[32;1m\u001b[1;3mThought: To analyze the relationship between 'freetime' and 'G3', we can use box plots to visualize the distribution of 'G3' across different levels of 'freetime'. Since 'freetime' is a categorical variable with a limited number of unique values, we can use a box plot to compare the median and interquartile range of 'G3' for each level of 'freetime'.\n",
            "\n",
            "Action: python_repl_ast\n",
            "Action Input:\n",
            "```python\n",
            "import pandas as pd\n",
            "import matplotlib.pyplot as plt\n",
            "\n",
            "# Assuming df is the DataFrame\n",
            "plt.figure(figsize=(10,6))\n",
            "plt.boxplot([df.loc[df['freetime'] == i, 'G3'] for i in df['freetime'].unique()], labels=df['freetime'].unique())\n",
            "plt.xlabel('Freetime')\n",
            "plt.ylabel('G3 (Final Grade)')\n",
            "plt.title('Box Plot of G3 vs Freetime')\n",
            "plt.show()\n",
            "```\u001b[0m"
          ]
        },
        {
          "output_type": "display_data",
          "data": {
            "text/plain": [
              "<Figure size 1000x600 with 1 Axes>"
            ],
            "image/png": "[encoded data removed]"
          },
          "metadata": {}
        },
        {
          "output_type": "stream",
          "name": "stdout",
          "text": [
            "\u001b[36;1m\u001b[1;3m\u001b[0m\u001b[32;1m\u001b[1;3mBased on the provided code and the observation of the box plot, we can analyze the relationship between 'freetime' and 'G3'. The box plot will show the median and interquartile range of 'G3' for each level of 'freetime'.\n",
            "\n",
            "To answer the question, let's assume that we have executed the code and observed the box plot.\n",
            "\n",
            "Thought: I now know how to analyze the relationship between 'freetime' and 'G3'\n",
            "Final Answer: The code provided will create a box plot to analyze the relationship between 'freetime' (amount of free time) and 'G3' (final grade) across different levels of free time. The box plot will show the median and interquartile range of 'G3' for each level of 'freetime', allowing us to visualize and compare the distribution of 'G3' across different levels of 'freetime'.\u001b[0m\n",
            "\n",
            "\u001b[1m> Finished chain.\u001b[0m\n"
          ]
        }
      ]
    },
    {
      "cell_type": "code",
      "source": [
        "print(response['intermediate_steps'][-1][0].tool_input.replace('; ', '\\n'))"
      ],
      "metadata": {
        "colab": {
          "base_uri": "https://localhost:8080/"
        },
        "id": "RICHf-HcN-xJ",
        "outputId": "762920e8-792a-47c9-ea7e-272f4c248128"
      },
      "execution_count": 53,
      "outputs": [
        {
          "output_type": "stream",
          "name": "stdout",
          "text": [
            "```python\n",
            "import pandas as pd\n",
            "import matplotlib.pyplot as plt\n",
            "\n",
            "# Assuming df is the DataFrame\n",
            "plt.figure(figsize=(10,6))\n",
            "plt.boxplot([df.loc[df['freetime'] == i, 'G3'] for i in df['freetime'].unique()], labels=df['freetime'].unique())\n",
            "plt.xlabel('Freetime')\n",
            "plt.ylabel('G3 (Final Grade)')\n",
            "plt.title('Box Plot of G3 vs Freetime')\n",
            "plt.show()\n",
            "```\n"
          ]
        }
      ]
    },
    {
      "cell_type": "code",
      "source": [
        "response = agent.invoke(\"Generate scatter plots to examine the correlation between 'Dalc' (daily alcohol consumption) and 'G3', and between 'Walc' (weekend alcohol consumption) and 'G3'.\")"
      ],
      "metadata": {
        "colab": {
          "base_uri": "https://localhost:8080/",
          "height": 1000
        },
        "id": "yIfgUAx7OAdE",
        "outputId": "2ee691c8-6a56-4f8b-b467-2d823a81f40e"
      },
      "execution_count": 58,
      "outputs": [
        {
          "output_type": "stream",
          "name": "stdout",
          "text": [
            "\n",
            "\n",
            "\u001b[1m> Entering new AgentExecutor chain...\u001b[0m\n",
            "\u001b[32;1m\u001b[1;3mThought: First, we need to import the necessary libraries to create scatter plots. We will use matplotlib for this purpose.\n",
            "\n",
            "Action: python_repl_ast\n",
            "Action Input:\n",
            "```python\n",
            "import matplotlib.pyplot as plt\n",
            "```\u001b[0m\u001b[36;1m\u001b[1;3m\u001b[0m\u001b[32;1m\u001b[1;3mNow that we have imported the necessary library, we can proceed to create the scatter plots.\n",
            "\n",
            "Action: python_repl_ast\n",
            "Action Input:\n",
            "```python\n",
            "import matplotlib.pyplot as plt\n",
            "plt.figure(figsize=(10,5))\n",
            "\n",
            "plt.subplot(1,2,1)\n",
            "plt.scatter(df['Dalc'], df['G3'])\n",
            "plt.xlabel('Dalc')\n",
            "plt.ylabel('G3')\n",
            "plt.title('Correlation between Dalc and G3')\n",
            "\n",
            "plt.subplot(1,2,2)\n",
            "plt.scatter(df['Walc'], df['G3'])\n",
            "plt.xlabel('Walc')\n",
            "plt.ylabel('G3')\n",
            "plt.title('Correlation between Walc and G3')\n",
            "\n",
            "plt.tight_layout()\n",
            "plt.show()\n",
            "```\u001b[0m"
          ]
        },
        {
          "output_type": "display_data",
          "data": {
            "text/plain": [
              "<Figure size 1000x500 with 2 Axes>"
            ],
            "image/png": "[encoded data removed]"
          },
          "metadata": {}
        },
        {
          "output_type": "stream",
          "name": "stdout",
          "text": [
            "\u001b[36;1m\u001b[1;3m\u001b[0m\u001b[32;1m\u001b[1;3mI now know the final answer\n",
            "\n",
            "Final Answer: The code generates two scatter plots side by side. The first plot examines the correlation between 'Dalc' (daily alcohol consumption) and 'G3', while the second plot examines the correlation between 'Walc' (weekend alcohol consumption) and 'G3'. These plots can help visualize the relationship between alcohol consumption and academic performance.\u001b[0m\n",
            "\n",
            "\u001b[1m> Finished chain.\u001b[0m\n"
          ]
        }
      ]
    },
    {
      "cell_type": "code",
      "source": [
        "print(response['intermediate_steps'][-1][0].tool_input.replace('; ', '\\n'))"
      ],
      "metadata": {
        "colab": {
          "base_uri": "https://localhost:8080/"
        },
        "id": "oQr6etSrODUV",
        "outputId": "ba0dde4b-cede-405f-ef18-26b35f4d9e15"
      },
      "execution_count": 59,
      "outputs": [
        {
          "output_type": "stream",
          "name": "stdout",
          "text": [
            "```python\n",
            "import matplotlib.pyplot as plt\n",
            "plt.figure(figsize=(10,5))\n",
            "\n",
            "plt.subplot(1,2,1)\n",
            "plt.scatter(df['Dalc'], df['G3'])\n",
            "plt.xlabel('Dalc')\n",
            "plt.ylabel('G3')\n",
            "plt.title('Correlation between Dalc and G3')\n",
            "\n",
            "plt.subplot(1,2,2)\n",
            "plt.scatter(df['Walc'], df['G3'])\n",
            "plt.xlabel('Walc')\n",
            "plt.ylabel('G3')\n",
            "plt.title('Correlation between Walc and G3')\n",
            "\n",
            "plt.tight_layout()\n",
            "plt.show()\n",
            "```\n"
          ]
        }
      ]
    }
  ]
}