{
  "nbformat": 4,
  "nbformat_minor": 0,
  "metadata": {
    "colab": {
      "provenance": []
    },
    "kernelspec": {
      "name": "python3",
      "display_name": "Python 3"
    },
    "language_info": {
      "name": "python"
    }
  },
  "cells": [
    {
      "cell_type": "code",
      "execution_count": 5,
      "metadata": {
        "id": "eQ_6GX6oNtD3"
      },
      "outputs": [],
      "source": [
        "# Cell 1: Installation of required libraries and OpenAI API Key Setup\n",
        "\n",
        "%%capture\n",
        "\n",
        "!pip install langchain==0.1.16\n",
        "!pip install langchain-core==0.1.37\n",
        "!pip install langchain-openai==0.1.4\n",
        "!pip install langchain-community==0.0.21\n",
        "\n",
        "\n",
        "# Install Hugging Face related libraries for embeddings\n",
        "!pip install \"huggingface==0.0.1\"\n",
        "!pip install \"huggingface-hub==0.23.4\"\n",
        "!pip install \"sentence-transformers==2.5.1\"\n",
        "\n",
        "# Install vector database\n",
        "!pip install \"chromadb\"\n",
        "\n",
        "# Install utility for downloading files\n",
        "!pip install \"wget==3.2\"\n",
        "\n",
        "# Removed: ibm-watsonx-ai and langchain-ibm as we are switching to OpenAI\n",
        "\n",
        "print(\"All required libraries installed successfully!\")"
      ]
    },
    {
      "cell_type": "code",
      "source": [
        "import os\n",
        "from google.colab import userdata\n",
        "\n",
        "try:\n",
        "    # IMPORTANT: Ensure 'OPENAI_API_KEY' is the exact name of your secret in Colab\n",
        "    os.environ['OPENAI_API_KEY'] = userdata.get('OPENAI_API_KEY')\n",
        "    print(\"OpenAI API key loaded from Colab secrets.\")\n",
        "except Exception as e:\n",
        "    print(f\"Error loading OpenAI API key from Colab secrets: {e}\")\n",
        "    print(\"Please ensure your 'OPENAI_API_KEY' secret is set in Colab and enabled for this notebook.\")\n",
        "    # You might want to raise an error or exit if the key is critical\n",
        "    # raise SystemExit(\"API Key not found. Exiting.\")\n"
      ],
      "metadata": {
        "colab": {
          "base_uri": "https://localhost:8080/"
        },
        "id": "pnOOYPYWiDrK",
        "outputId": "eede9dae-c6a7-454f-a789-da283aee37dc"
      },
      "execution_count": 3,
      "outputs": [
        {
          "output_type": "stream",
          "name": "stdout",
          "text": [
            "OpenAI API key loaded from Colab secrets.\n"
          ]
        }
      ]
    },
    {
      "cell_type": "code",
      "source": [
        "def warn(*args, **kwargs):\n",
        "    pass\n",
        "import warnings\n",
        "warnings.warn = warn\n",
        "warnings.filterwarnings('ignore')\n",
        "\n",
        "# LangChain components for document processing\n",
        "from langchain_community.document_loaders import TextLoader\n",
        "from langchain.text_splitter import CharacterTextSplitter\n",
        "from langchain.vectorstores import Chroma\n",
        "from langchain.embeddings import HuggingFaceEmbeddings\n",
        "from langchain.chains import RetrievalQA\n",
        "from langchain.prompts import PromptTemplate\n",
        "from langchain.chains import ConversationalRetrievalChain\n",
        "from langchain.memory import ConversationBufferMemory\n",
        "\n",
        "# OpenAI specific imports for LLM integration\n",
        "from langchain_openai import ChatOpenAI # Using ChatOpenAI for conversational models\n",
        "\n",
        "# Utility for downloading files\n",
        "import wget"
      ],
      "metadata": {
        "id": "08D4AasmNzDQ"
      },
      "execution_count": 6,
      "outputs": []
    },
    {
      "cell_type": "code",
      "source": [
        "filename = 'companyPolicies.txt'\n",
        "url = 'https://cf-courses-data.s3.us.cloud-object-storage.appdomain.cloud/6JDbUb_L3egv_eOkouY71A.txt'\n",
        "\n",
        "# Use wget to download the file\n",
        "wget.download(url, out=filename)\n",
        "print('file downloaded')"
      ],
      "metadata": {
        "colab": {
          "base_uri": "https://localhost:8080/"
        },
        "id": "6km3myRhN6Id",
        "outputId": "038990fd-6708-4c6d-a961-da8418848a12"
      },
      "execution_count": 7,
      "outputs": [
        {
          "output_type": "stream",
          "name": "stdout",
          "text": [
            "file downloaded\n"
          ]
        }
      ]
    },
    {
      "cell_type": "code",
      "source": [
        "with open(filename, 'r') as file:\n",
        "    # Read the contents of the file\n",
        "    contents = file.read()\n",
        "    print(contents)"
      ],
      "metadata": {
        "colab": {
          "base_uri": "https://localhost:8080/"
        },
        "id": "MTTevwEXN8oU",
        "outputId": "6ae7cb7e-856c-40f4-e9ae-a3606c6ac7ca"
      },
      "execution_count": 8,
      "outputs": [
        {
          "output_type": "stream",
          "name": "stdout",
          "text": [
            "1.\tCode of Conduct\n",
            "\n",
            "Our Code of Conduct outlines the fundamental principles and ethical standards that guide every member of our organization. We are committed to maintaining a workplace that is built on integrity, respect, and accountability.\n",
            "Integrity: We hold ourselves to the highest ethical standards. This means acting honestly and transparently in all our interactions, whether with colleagues, clients, or the broader community. We respect and protect sensitive information, and we avoid conflicts of interest.\n",
            "Respect: We embrace diversity and value each individual's contributions. Discrimination, harassment, or any form of disrespectful behavior is unacceptable. We create an inclusive environment where differences are celebrated and everyone is treated with dignity and courtesy.\n",
            "Accountability: We take responsibility for our actions and decisions. We follow all relevant laws and regulations, and we strive to continuously improve our practices. We report any potential violations of this code and support the investigation of such matters.\n",
            "Safety: We prioritize the safety of our employees, clients, and the communities we serve. We maintain a culture of safety, including reporting any unsafe conditions or practices.\n",
            "Environmental Responsibility: We are committed to minimizing our environmental footprint and promoting sustainable practices.\n",
            "Our Code of Conduct is not just a set of rules; it is the foundation of our organization's culture. We expect all employees to uphold these principles and serve as role models for others, ensuring we maintain our reputation for ethical conduct, integrity, and social responsibility.\n",
            "\n",
            "2.\tRecruitment Policy\n",
            "\n",
            "Our Recruitment Policy reflects our commitment to attracting, selecting, and onboarding the most qualified and diverse candidates to join our organization. We believe that the success of our company relies on the talents, skills, and dedication of our employees.\n",
            "Equal Opportunity: We are an equal opportunity employer and do not discriminate on the basis of race, color, religion, sex, sexual orientation, gender identity, national origin, age, disability, or any other protected status. We actively promote diversity and inclusion.\n",
            "Transparency: We maintain transparency in our recruitment processes. All job vacancies are advertised internally and externally when appropriate. Job descriptions and requirements are clear and accurately represent the role.\n",
            "Selection Criteria: Our selection process is based on the qualifications, experience, and skills necessary for the position. Interviews and assessments are conducted objectively, and decisions are made without bias.\n",
            "Data Privacy: We are committed to protecting the privacy of candidates' personal information and adhere to all relevant data protection laws and regulations.\n",
            "Feedback: Candidates will receive timely and constructive feedback on their application and interview performance.\n",
            "Onboarding: New employees receive comprehensive onboarding to help them integrate into the organization effectively. This includes information on our culture, policies, and expectations.\n",
            "Employee Referrals: We encourage and appreciate employee referrals as they contribute to building a strong and engaged team.\n",
            "Our Recruitment Policy is a foundation for creating a diverse, inclusive, and talented workforce. It ensures that we attract and hire the best candidates who align with our company values and contribute to our continued success. We continuously review and update this policy to reflect evolving best practices in recruitment.\n",
            "\n",
            "3.\tInternet and Email Policy\n",
            "\n",
            "Our Internet and Email Policy is established to guide the responsible and secure use of these essential tools within our organization. We recognize their significance in daily business operations and the importance of adhering to principles that maintain security, productivity, and legal compliance.\n",
            "Acceptable Use: Company-provided internet and email services are primarily meant for job-related tasks. Limited personal use is allowed during non-work hours, provided it doesn't interfere with work responsibilities.\n",
            "Security: Safeguard your login credentials, avoiding the sharing of passwords. Exercise caution with email attachments and links from unknown sources. Promptly report any unusual online activity or potential security breaches.\n",
            "Confidentiality: Reserve email for the transmission of confidential information, trade secrets, and sensitive customer data only when encryption is applied. Exercise discretion when discussing company matters on public forums or social media.\n",
            "Harassment and Inappropriate Content: Internet and email usage must not involve harassment, discrimination, or the distribution of offensive or inappropriate content. Show respect and sensitivity to others in all online communications.\n",
            "Compliance: Ensure compliance with all relevant laws and regulations regarding internet and email usage, including those related to copyright and data protection.\n",
            "Monitoring: The company retains the right to monitor internet and email usage for security and compliance purposes.\n",
            "Consequences: Policy violations may lead to disciplinary measures, including potential termination.\n",
            "Our Internet and Email Policy aims to promote safe, responsible usage of digital communication tools that align with our values and legal obligations. Each employee is expected to understand and follow this policy. Regular reviews ensure its alignment with evolving technology and security standards.\n",
            "\n",
            "4.\tMobile Phone Policy\n",
            "\n",
            "The Mobile Phone Policy sets forth the standards and expectations governing the appropriate and responsible usage of mobile devices in the organization. The purpose of this policy is to ensure that employees utilize mobile phones in a manner consistent with company values and legal compliance.\n",
            "Acceptable Use: Mobile devices are primarily intended for work-related tasks. Limited personal usage is allowed, provided it does not disrupt work obligations.\n",
            "Security: Safeguard your mobile device and access credentials. Exercise caution when downloading apps or clicking links from unfamiliar sources. Promptly report security concerns or suspicious activities related to your mobile device.\n",
            "Confidentiality: Avoid transmitting sensitive company information via unsecured messaging apps or emails. Be discreet when discussing company matters in public spaces.\n",
            "Cost Management: Keep personal phone usage separate from company accounts and reimburse the company for any personal charges on company-issued phones.\n",
            "Compliance: Adhere to all pertinent laws and regulations concerning mobile phone usage, including those related to data protection and privacy.\n",
            "Lost or Stolen Devices: Immediately report any lost or stolen mobile devices to the IT department or your supervisor.\n",
            "Consequences: Non-compliance with this policy may lead to disciplinary actions, including the potential loss of mobile phone privileges.\n",
            "The Mobile Phone Policy is aimed at promoting the responsible and secure use of mobile devices in line with legal and ethical standards. Every employee is expected to comprehend and abide by these guidelines. Regular reviews of the policy ensure its ongoing alignment with evolving technology and security best practices.\n",
            "\n",
            "5.\tSmoking Policy\n",
            "\n",
            "Policy Purpose: The Smoking Policy has been established to provide clear guidance and expectations concerning smoking on company premises. This policy is in place to ensure a safe and healthy environment for all employees, visitors, and the general public.\n",
            "Designated Smoking Areas: Smoking is only permitted in designated smoking areas, as marked by appropriate signage. These areas have been chosen to minimize exposure to secondhand smoke and to maintain the overall cleanliness of the premises.\n",
            "Smoking Restrictions: Smoking inside company buildings, offices, meeting rooms, and other enclosed spaces is strictly prohibited. This includes electronic cigarettes and vaping devices.\n",
            "Compliance with Applicable Laws: All employees and visitors must adhere to relevant federal, state, and local smoking laws and regulations.\n",
            "Disposal of Smoking Materials: Properly dispose of cigarette butts and related materials in designated receptacles. Littering on company premises is prohibited.\n",
            "No Smoking in Company Vehicles: Smoking is not permitted in company vehicles, whether they are owned or leased, to maintain the condition and cleanliness of these vehicles.\n",
            "Enforcement and Consequences: All employees and visitors are expected to adhere to this policy. Non-compliance may lead to appropriate disciplinary action, which could include fines, or, in the case of employees, possible termination of employment.\n",
            "Review of Policy: This policy will be reviewed periodically to ensure its alignment with evolving legal requirements and best practices for maintaining a healthy and safe workplace.\n",
            "We appreciate your cooperation in maintaining a smoke-free and safe environment for all.\n",
            "\n",
            "6.\tDrug and Alcohol Policy\n",
            "\n",
            "Policy Objective: The Drug and Alcohol Policy is established to establish clear expectations and guidelines for the responsible use of drugs and alcohol within the organization. This policy aims to maintain a safe, healthy, and productive workplace.\n",
            "Prohibited Substances: The use, possession, distribution, or sale of illegal drugs or unauthorized controlled substances is strictly prohibited on company premises or during work-related activities. This includes the misuse of prescription drugs.\n",
            "Alcohol Consumption: The consumption of alcoholic beverages is not allowed during work hours, on company property, or while performing company-related duties. Exception may be made for company-sanctioned events.\n",
            "Impairment: Employees are expected to perform their job duties without impairment from drugs or alcohol. The use of substances that could impair job performance or pose a safety risk is prohibited.\n",
            "Testing and Searches: The organization reserves the right to conduct drug and alcohol testing as per applicable laws and regulations. Employees may be subject to testing in cases of reasonable suspicion, post-accident, or as part of routine workplace safety measures.\n",
            "Reporting: Employees should report any concerns related to drug or alcohol misuse by themselves or their colleagues, as well as safety concerns arising from such misuse.\n",
            "Treatment and Assistance: Employees with substance abuse issues are encouraged to seek help. The organization is committed to providing support, resources, and information to assist those seeking treatment.\n",
            "Consequences: Violation of this policy may result in disciplinary actions, up to and including termination of employment. Legal action may also be pursued when necessary.\n",
            "Policy Review: This policy will undergo periodic review to ensure its continued relevance and compliance with evolving legal requirements and best practices for a safe and productive work environment.\n",
            "Your adherence to this policy is appreciated as it helps to maintain a safe and drug-free workplace for all.\n",
            "\n",
            "7.\tHealth and Safety Policy\n",
            "\n",
            "Our commitment to health and safety is paramount. We prioritize the well-being of our employees, customers, and the public. We diligently comply with all relevant health and safety laws and regulations. Our objective is to maintain a workplace free from hazards, preventing accidents, injuries, and illnesses. Every individual within our organization is responsible for upholding these standards. We regularly assess and improve our safety measures, provide adequate training, and encourage open communication regarding safety concerns. Through collective dedication, we aim to ensure a safe, healthy, and secure environment for all. Your cooperation is essential in achieving this common goal.\n",
            "\n",
            "8.\tAnti-discrimination and Harassment Policy\n",
            "\n",
            "The Anti-Discrimination and Harassment Policy is a testament to the commitment of this organization in fostering a workplace that is free from discrimination, harassment, and any form of unlawful bias. This policy applies to every individual within the organization, including employees, contractors, visitors, and clients.\n",
            "Non-Discrimination: This organization strictly prohibits discrimination based on race, color, religion, gender, national origin, age, disability, sexual orientation, or any other legally protected characteristic in all aspects of employment, including recruitment, hiring, compensation, benefits, promotions, and terminations.\n",
            "Harassment: Harassment in any form, whether based on the aforementioned characteristics or any other protected status, is unacceptable. This encompasses unwelcome advances, offensive jokes, slurs, and other verbal or physical conduct that creates a hostile or intimidating work environment.\n",
            "Reporting: Individuals who experience or witness any form of discrimination or harassment are encouraged to promptly report the incident to their supervisor, manager, or the designated HR representative. The organization is committed to a timely and confidential investigation of such complaints.\n",
            "Consequences: Violation of this policy may result in disciplinary action, including termination of employment. The organization is committed to taking appropriate action against any individual found to be in violation of this policy.\n",
            "Review and Update: This policy is subject to regular review and update to remain aligned with evolving legal requirements and best practices in preventing discrimination and harassment. This organization considers it a collective responsibility to ensure a workplace free from discrimination and harassment, and it is essential that every individual within the organization plays their part in upholding these principles.\n",
            "\n",
            "9.\tDiscipline and Termination Policy\n",
            "\n",
            "The Discipline and Termination Policy underscores the organization's commitment to maintaining a productive, ethical, and respectful work environment. This policy applies to all personnel, including employees, contractors, and temporary staff.\n",
            "Performance and Conduct Expectations: Employees are expected to meet performance standards and adhere to conduct guidelines. The organization will provide clear expectations, feedback, and opportunities for improvement when performance or conduct issues arise.\n",
            "Disciplinary Actions: When necessary, disciplinary actions will be taken, which may include verbal warnings, written warnings, suspension, or other appropriate measures. Disciplinary actions are designed to address issues constructively and maintain performance standards.\n",
            "Termination: In situations where an employee's performance or conduct issues persist, the organization may resort to termination. Termination may also occur for reasons such as redundancy, violation of policies, or restructuring.\n",
            "Termination Procedure: The organization will follow appropriate procedures, ensuring fairness and adherence to legal requirements during the termination process. Employees may be eligible for notice periods, severance pay, or other benefits as per employment agreements and applicable laws.\n",
            "Exit Process: The organization will conduct an exit process to ensure a smooth transition for departing employees, including the return of company property, final pay, and cancellation of access and benefits.\n",
            "This policy serves as a framework for handling discipline and termination. The organization recognizes the importance of fairness and consistency in these processes, and decisions will be made after careful consideration. Every employee is expected to understand and adhere to this policy, contributing to a respectful and productive workplace. Regular reviews will ensure its alignment with evolving legal requirements and best practices.\n",
            "\n"
          ]
        }
      ]
    },
    {
      "cell_type": "code",
      "source": [
        "loader = TextLoader(filename)\n",
        "documents = loader.load()\n",
        "text_splitter = CharacterTextSplitter(chunk_size=1000, chunk_overlap=0)\n",
        "texts = text_splitter.split_documents(documents)\n",
        "print(len(texts))"
      ],
      "metadata": {
        "colab": {
          "base_uri": "https://localhost:8080/"
        },
        "id": "QGjxNf6VOBRb",
        "outputId": "efb45ba1-e6cf-424e-de9d-d656412d06e4"
      },
      "execution_count": 9,
      "outputs": [
        {
          "output_type": "stream",
          "name": "stderr",
          "text": [
            "WARNING:langchain_text_splitters.base:Created a chunk of size 1624, which is longer than the specified 1000\n",
            "WARNING:langchain_text_splitters.base:Created a chunk of size 1885, which is longer than the specified 1000\n",
            "WARNING:langchain_text_splitters.base:Created a chunk of size 1903, which is longer than the specified 1000\n",
            "WARNING:langchain_text_splitters.base:Created a chunk of size 1729, which is longer than the specified 1000\n",
            "WARNING:langchain_text_splitters.base:Created a chunk of size 1678, which is longer than the specified 1000\n",
            "WARNING:langchain_text_splitters.base:Created a chunk of size 2032, which is longer than the specified 1000\n",
            "WARNING:langchain_text_splitters.base:Created a chunk of size 1894, which is longer than the specified 1000\n"
          ]
        },
        {
          "output_type": "stream",
          "name": "stdout",
          "text": [
            "16\n"
          ]
        }
      ]
    },
    {
      "cell_type": "code",
      "source": [
        "loader = TextLoader(filename)\n",
        "documents = loader.load()\n",
        "text_splitter = CharacterTextSplitter(chunk_size=1000, chunk_overlap=0, separator=\"\\n\")\n",
        "texts = text_splitter.split_documents(documents)\n",
        "print(len(texts))"
      ],
      "metadata": {
        "colab": {
          "base_uri": "https://localhost:8080/"
        },
        "id": "sPCR0pEePeEM",
        "outputId": "b9093f21-3316-49ab-a463-44f2d3289644"
      },
      "execution_count": 10,
      "outputs": [
        {
          "output_type": "stream",
          "name": "stdout",
          "text": [
            "18\n"
          ]
        }
      ]
    },
    {
      "cell_type": "code",
      "source": [
        "embeddings = HuggingFaceEmbeddings()\n",
        "docsearch = Chroma.from_documents(texts, embeddings)  # store the embedding in docsearch using Chromadb\n",
        "print('document ingested')"
      ],
      "metadata": {
        "colab": {
          "base_uri": "https://localhost:8080/",
          "height": 395
        },
        "id": "qF_nEjUxPl39",
        "outputId": "94822e28-9bd4-4a12-efaa-6d6f383ef6e6"
      },
      "execution_count": 11,
      "outputs": [
        {
          "output_type": "error",
          "ename": "AttributeError",
          "evalue": "'MessageFactory' object has no attribute 'GetPrototype'",
          "traceback": [
            "\u001b[0;31m---------------------------------------------------------------------------\u001b[0m",
            "\u001b[0;31mAttributeError\u001b[0m                            Traceback (most recent call last)",
            "\u001b[0;31mAttributeError\u001b[0m: 'MessageFactory' object has no attribute 'GetPrototype'"
          ]
        },
        {
          "output_type": "error",
          "ename": "AttributeError",
          "evalue": "'MessageFactory' object has no attribute 'GetPrototype'",
          "traceback": [
            "\u001b[0;31m---------------------------------------------------------------------------\u001b[0m",
            "\u001b[0;31mAttributeError\u001b[0m                            Traceback (most recent call last)",
            "\u001b[0;31mAttributeError\u001b[0m: 'MessageFactory' object has no attribute 'GetPrototype'"
          ]
        },
        {
          "output_type": "error",
          "ename": "AttributeError",
          "evalue": "'MessageFactory' object has no attribute 'GetPrototype'",
          "traceback": [
            "\u001b[0;31m---------------------------------------------------------------------------\u001b[0m",
            "\u001b[0;31mAttributeError\u001b[0m                            Traceback (most recent call last)",
            "\u001b[0;31mAttributeError\u001b[0m: 'MessageFactory' object has no attribute 'GetPrototype'"
          ]
        },
        {
          "output_type": "error",
          "ename": "AttributeError",
          "evalue": "'MessageFactory' object has no attribute 'GetPrototype'",
          "traceback": [
            "\u001b[0;31m---------------------------------------------------------------------------\u001b[0m",
            "\u001b[0;31mAttributeError\u001b[0m                            Traceback (most recent call last)",
            "\u001b[0;31mAttributeError\u001b[0m: 'MessageFactory' object has no attribute 'GetPrototype'"
          ]
        },
        {
          "output_type": "error",
          "ename": "AttributeError",
          "evalue": "'MessageFactory' object has no attribute 'GetPrototype'",
          "traceback": [
            "\u001b[0;31m---------------------------------------------------------------------------\u001b[0m",
            "\u001b[0;31mAttributeError\u001b[0m                            Traceback (most recent call last)",
            "\u001b[0;31mAttributeError\u001b[0m: 'MessageFactory' object has no attribute 'GetPrototype'"
          ]
        },
        {
          "output_type": "stream",
          "name": "stdout",
          "text": [
            "document ingested\n"
          ]
        }
      ]
    },
    {
      "cell_type": "code",
      "source": [
        "parameters = {\n",
        "    \"temperature\": 0.5, # Controls randomness. 0.0 for deterministic, higher for more creative.\n",
        "    \"max_tokens\": 256,  # Maximum number of tokens to generate in the output.\n",
        "    # You can add other OpenAI-specific parameters here if needed\n",
        "}\n",
        "\n",
        "# Initialize the OpenAI LLM (using ChatOpenAI for conversational tasks)\n",
        "# 'gpt-3.5-turbo' is a good, cost-effective default. You can try 'gpt-4' for better performance.\n",
        "openai_llm = ChatOpenAI(model_name=\"gpt-3.5-turbo\", **parameters)\n",
        "\n",
        "print(f\"OpenAI LLM initialized with model: {openai_llm.model_name}\")"
      ],
      "metadata": {
        "colab": {
          "base_uri": "https://localhost:8080/"
        },
        "id": "a9GHJnw0eeqD",
        "outputId": "3bc4afd2-636b-4a73-b790-9590814547df"
      },
      "execution_count": 12,
      "outputs": [
        {
          "output_type": "stream",
          "name": "stdout",
          "text": [
            "OpenAI LLM initialized with model: gpt-3.5-turbo\n"
          ]
        }
      ]
    },
    {
      "cell_type": "code",
      "source": [
        "qa = RetrievalQA.from_chain_type(llm=openai_llm,\n",
        "                                     chain_type=\"stuff\",\n",
        "                                     retriever=docsearch.as_retriever(),\n",
        "                                     return_source_documents=False)\n",
        "\n",
        "    # Ask the query\n",
        "query = \"what is mobile policy?\"\n",
        "result = qa.invoke(query)\n",
        "print(result['result']) # Print the answer from the model"
      ],
      "metadata": {
        "colab": {
          "base_uri": "https://localhost:8080/"
        },
        "id": "qXxjFfpogN0O",
        "outputId": "2b9c8e8d-b352-4a1d-8942-c6e57ebb4ede"
      },
      "execution_count": 19,
      "outputs": [
        {
          "output_type": "stream",
          "name": "stdout",
          "text": [
            "The Mobile Phone Policy sets forth the standards and expectations governing the appropriate and responsible usage of mobile devices in the organization. It outlines guidelines related to acceptable use, security, confidentiality, cost management, compliance, reporting lost or stolen devices, and consequences for non-compliance. The policy aims to ensure employees use mobile phones in a manner consistent with company values and legal compliance.\n"
          ]
        }
      ]
    },
    {
      "cell_type": "code",
      "source": [
        "# Ask a more high-level question to test summarization\n",
        "query = \"Can you summarize the document for me?\"\n",
        "result = qa.invoke(query)\n",
        "print(result['result'])"
      ],
      "metadata": {
        "colab": {
          "base_uri": "https://localhost:8080/"
        },
        "id": "0pJ1ImF934SZ",
        "outputId": "7dd0436c-668c-400c-b2e3-05bcfc0bcecc"
      },
      "execution_count": 20,
      "outputs": [
        {
          "output_type": "stream",
          "name": "stdout",
          "text": [
            "The document provided includes information on the organization's Code of Conduct, Recruitment Policy, and commitment to health and safety. \n",
            "\n",
            "The Code of Conduct emphasizes integrity, respect, accountability, safety, and environmental responsibility. It outlines the ethical standards expected from all employees, focusing on honesty, transparency, respect for diversity, accountability for actions, and maintaining a safe and inclusive workplace.\n",
            "\n",
            "The Recruitment Policy highlights the organization's commitment to equal opportunity, transparency in recruitment processes, and selection based on qualifications and skills. It promotes diversity and inclusion in hiring practices.\n",
            "\n",
            "The commitment to health and safety is paramount, with a focus on complying with health and safety laws, preventing accidents and injuries, providing training, and fostering open communication on safety concerns.\n",
            "\n",
            "Overall, the document stresses the importance of ethical conduct, diversity, inclusion, and maintaining a safe and healthy work environment for all employees.\n"
          ]
        }
      ]
    },
    {
      "cell_type": "code",
      "source": [
        "# Cell 21: Initialize ConversationBufferMemory\n",
        "\n",
        "memory = ConversationBufferMemory(memory_key = \"chat_history\", return_messages = True)\n",
        "print(\"Conversation memory initialized.\")"
      ],
      "metadata": {
        "colab": {
          "base_uri": "https://localhost:8080/"
        },
        "id": "_6TRtljh6UoB",
        "outputId": "fe1b3ba6-fa5a-4ed1-8fb9-39d60188591a"
      },
      "execution_count": 21,
      "outputs": [
        {
          "output_type": "stream",
          "name": "stdout",
          "text": [
            "Conversation memory initialized.\n"
          ]
        }
      ]
    },
    {
      "cell_type": "code",
      "source": [
        "# Cell 22: Create a ConversationalRetrievalChain with memory\n",
        "\n",
        "# This chain will use the memory to retain conversation history\n",
        "qa_with_memory = ConversationalRetrievalChain.from_llm(llm=openai_llm, # Your OpenAI LLM\n",
        "                                           chain_type=\"stuff\",\n",
        "                                           retriever=docsearch.as_retriever(),\n",
        "                                           memory = memory, # Pass the memory object here\n",
        "                                           get_chat_history=lambda h : h, # Function to format chat history\n",
        "                                           return_source_documents=False)\n",
        "print(\"ConversationalRetrievalChain with memory initialized.\")"
      ],
      "metadata": {
        "colab": {
          "base_uri": "https://localhost:8080/"
        },
        "id": "KQmBVOOG6cGZ",
        "outputId": "61c47f14-7fd8-4aa5-842e-d2ccca962d27"
      },
      "execution_count": 22,
      "outputs": [
        {
          "output_type": "stream",
          "name": "stdout",
          "text": [
            "ConversationalRetrievalChain with memory initialized.\n"
          ]
        }
      ]
    },
    {
      "cell_type": "code",
      "source": [
        "# Cell 23: Create a history list to store chat history (for manual management)\n",
        "history = []\n",
        "\n",
        "# Cell 24: First query with memory\n",
        "query = \"What is mobile policy?\"\n",
        "result = qa_with_memory.invoke({\"question\":query, \"chat_history\": history})\n",
        "print(result[\"answer\"])\n",
        "\n",
        "# Cell 25: Append the previous query and answer to the history\n",
        "history.append((query, result[\"answer\"]))\n",
        "\n",
        "# Cell 26: Second query with memory (referencing previous context)\n",
        "query = \"List points in it?\" # \"it\" should refer to mobile policy\n",
        "result = qa_with_memory.invoke({\"question\": query, \"chat_history\": history})\n",
        "print(result[\"answer\"])\n",
        "\n",
        "# Cell 27: Append the previous query and answer to the chat history again\n",
        "history.append((query, result[\"answer\"]))\n",
        "\n",
        "# Cell 28: Third query with memory (referencing previous context)\n",
        "query = \"What is the aim of it?\" # \"it\" should refer to mobile policy\n",
        "result = qa_with_memory.invoke({\"question\": query, \"chat_history\": history})\n",
        "print(result[\"answer\"])"
      ],
      "metadata": {
        "colab": {
          "base_uri": "https://localhost:8080/"
        },
        "id": "u1Z34PHA6d3d",
        "outputId": "ba4e4966-4ee2-46cb-e8f1-636669dbe226"
      },
      "execution_count": 23,
      "outputs": [
        {
          "output_type": "stream",
          "name": "stdout",
          "text": [
            "A mobile phone policy is a set of guidelines and rules that govern the appropriate and responsible use of mobile devices within an organization. It typically outlines acceptable use, security measures, confidentiality requirements, cost management guidelines, compliance with laws and regulations, reporting procedures for lost or stolen devices, and potential consequences for non-compliance. The policy aims to ensure that employees use mobile phones in a manner consistent with company values, legal requirements, and best practices.\n",
            "Based on the provided context, a mobile phone policy typically includes the following points:\n",
            "\n",
            "1. **Cost Management**: Keeping personal phone usage separate from company accounts and reimbursing the company for any personal charges on company-issued phones.\n",
            "2. **Compliance**: Adhering to all pertinent laws and regulations concerning mobile phone usage, including those related to data protection and privacy.\n",
            "3. **Lost or Stolen Devices**: Immediately reporting any lost or stolen mobile devices to the IT department or supervisor.\n",
            "4. **Consequences**: Non-compliance with the policy may lead to disciplinary actions, including the potential loss of mobile phone privileges.\n",
            "\n",
            "These points aim to promote responsible and secure use of mobile devices in line with legal and ethical standards within the organization.\n",
            "The aim of a mobile phone policy is to establish guidelines and expectations for the appropriate and responsible use of mobile devices within an organization. It is designed to ensure that employees use mobile phones in a manner consistent with company values, legal compliance, security best practices, and productivity goals.\n"
          ]
        }
      ]
    }
  ]
}